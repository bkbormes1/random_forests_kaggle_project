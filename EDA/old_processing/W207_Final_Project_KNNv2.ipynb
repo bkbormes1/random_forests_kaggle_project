{
 "cells": [
  {
   "cell_type": "markdown",
   "metadata": {
    "colab_type": "text",
    "id": "view-in-github"
   },
   "source": [
    "<a href=\"https://colab.research.google.com/github/savitaChari/W207-Final-Project-Group3_Section6/blob/main/EDA/W207_Final_Project_KNN.ipynb\" target=\"_parent\"><img src=\"https://colab.research.google.com/assets/colab-badge.svg\" alt=\"Open In Colab\"/></a>"
   ]
  },
  {
   "cell_type": "markdown",
   "metadata": {
    "id": "vJpVvxlSm_pk"
   },
   "source": [
    "# Set-Up / Load Data"
   ]
  },
  {
   "cell_type": "markdown",
   "metadata": {
    "id": "y7tsv_HB65r0"
   },
   "source": [
    "### Notes from Blake to Andrew\n",
    "- I assigned you to the Data Preprocessing steps. The first one leverage Tymon's built in scaling function he used. Please reach out if you have questions for me\n",
    "- How would you use a smoothing factor for KNN models? I'm not sure this is possible, but we mentioned it in our midterm submission \"Next Steps\"\n",
    "- We discussed data processing and hyperparameter tuning in our \"Next Steps\" however we didn't discuss any other types of feature engineering. Do you have any ideas to try for our final section? If so, please add them in the respective text cell. If not, let's plan on discussing in 1-2 weeks. We can look at the 95% accurate KNN model Tymon found to assist us with this.\n",
    "- When you preform your data preprocessing, will you want to rerun each of my hyperparameter tuning models for all the different types of data or just use the hyperparameters that worked best for me? As long as you have a text cell descirbing what you chose and why, I'll agree with your decision."
   ]
  },
  {
   "cell_type": "markdown",
   "metadata": {},
   "source": [
    "- \n",
    "- I dont have other ideas for feature engineering but will think on it.\n",
    "- "
   ]
  },
  {
   "cell_type": "markdown",
   "metadata": {
    "id": "JcikTDB23kE3"
   },
   "source": [
    "### Things to change before handing in\n",
    "- use full train and test data sets, remove mini data sets"
   ]
  },
  {
   "cell_type": "code",
   "execution_count": 225,
   "metadata": {
    "id": "HEYAUBR5rEr1"
   },
   "outputs": [],
   "source": [
    "# This tells matplotlib not to try opening a new window for each plot.\n",
    "%matplotlib inline\n",
    "\n",
    "# Import a bunch of libraries.\n",
    "import time\n",
    "import numpy as np\n",
    "import pandas as pd\n",
    "import matplotlib.pyplot as plt\n",
    "from matplotlib.ticker import MultipleLocator\n",
    "from sklearn import preprocessing\n",
    "from sklearn.pipeline import Pipeline\n",
    "from sklearn.datasets import fetch_openml\n",
    "from sklearn.neighbors import KNeighborsClassifier\n",
    "from sklearn.metrics import confusion_matrix\n",
    "from sklearn.linear_model import LinearRegression\n",
    "from sklearn.preprocessing import LabelEncoder\n",
    "from sklearn.naive_bayes import BernoulliNB\n",
    "from sklearn.naive_bayes import MultinomialNB\n",
    "from sklearn.naive_bayes import GaussianNB\n",
    "from sklearn.model_selection import GridSearchCV\n",
    "from sklearn.metrics import classification_report\n",
    "from zipfile import ZipFile\n",
    "\n",
    "# Set the randomizer seed so results are the same each time.\n",
    "np.random.seed(0)"
   ]
  },
  {
   "cell_type": "code",
   "execution_count": 226,
   "metadata": {
    "colab": {
     "base_uri": "https://localhost:8080/",
     "height": 35
    },
    "id": "D-VOZcrVrF_N",
    "outputId": "aa355e59-59b7-4f64-b325-06b59dff351c"
   },
   "outputs": [
    {
     "data": {
      "text/plain": [
       "'0.23.2'"
      ]
     },
     "execution_count": 226,
     "metadata": {},
     "output_type": "execute_result"
    }
   ],
   "source": [
    "import sklearn\n",
    "sklearn.__version__"
   ]
  },
  {
   "cell_type": "code",
   "execution_count": 240,
   "metadata": {},
   "outputs": [
    {
     "name": "stdout",
     "output_type": "stream",
     "text": [
      "data shape:  (581012, 54)\n",
      "label shape: (581012,)\n"
     ]
    }
   ],
   "source": [
    "# Load the data from covtype.zip\n",
    "with ZipFile(\"covtype.zip\") as myzip:\n",
    "  data = myzip.open(\"covtype.csv\")\n",
    "df = pd.read_csv(data)\n",
    "X = df.values[:, :-1]\n",
    "y = df.values[:, -1]\n",
    "\n",
    "# ensure input data is floats\n",
    "X = X.astype('float32')\n",
    "\n",
    "# label encode target and ensure the values are floats\n",
    "y = LabelEncoder().fit_transform(y)\n",
    "\n",
    "# Shuffle the input: create a random permutation of the integers between 0 and the number of data points and apply this\n",
    "# permutation to X and Y.\n",
    "# NOTE: Each time you run this cell, you'll re-shuffle the data, resulting in a different ordering.\n",
    "shuffle = np.random.permutation(np.arange(X.shape[0]))\n",
    "X, y = X[shuffle], y[shuffle]\n",
    "\n",
    "print('data shape: ', X.shape)\n",
    "print('label shape:', y.shape)\n",
    "\n",
    "# Set some variables to hold test and training data.\n",
    "len_test = int(len(y)* (2/3))\n",
    "len_train = int(len(y) * (1/3))+1\n",
    "test_data, test_labels = X[len_test:], y[len_test:]\n",
    "train_data, train_labels = X[:len_train], y[:len_train]\n",
    "mini_train_data, mini_train_labels = train_data[:1000], train_labels[: 1000]\n",
    "mini_test_data, mini_test_labels = test_data[:1000], test_labels[:1000]"
   ]
  },
  {
   "cell_type": "markdown",
   "metadata": {
    "id": "1xY8FtjWt2GJ"
   },
   "source": [
    "# Data Preprocessing (Andrew)"
   ]
  },
  {
   "cell_type": "markdown",
   "metadata": {
    "id": "rJ5Wgnkg5EQt"
   },
   "source": [
    "### Observe impact of the following data preprocessing methods:\n",
    "- Scaling methodology (see Tymon's function)\n",
    "- Normalizing our data to have values between 0 and 1 \n",
    "- Converting continous features to be binary and not transforming our binary features\n",
    "- Stratifying the dataset to ensure class distribution is identical within both training and test sets \n",
    "- Changing the ratio of training and test data from our original dataset will help reduce overfitting (Savita mentioned this has no affect but then I believe wanted us to try it again? I would prioritize this low because we have previous evidence that this doesn't help)"
   ]
  },
  {
   "cell_type": "code",
   "execution_count": 241,
   "metadata": {},
   "outputs": [],
   "source": [
    "#Normalizing training data to have range of 0 to 1\n",
    "\n",
    "def NormalizeData(train_data):\n",
    "    return (train_data - np.min(train_data)) / (np.max(train_data) - np.min(train_data))\n",
    "normalized_training_data = NormalizeData(train_data)\n",
    "normalized_mini_training_data = NormalizeData(mini_train_data)"
   ]
  },
  {
   "cell_type": "code",
   "execution_count": 182,
   "metadata": {},
   "outputs": [
    {
     "name": "stdout",
     "output_type": "stream",
     "text": [
      "Int64Index([], dtype='int64')\n"
     ]
    }
   ],
   "source": [
    "#Converting continous features to be binary and not transforming our binary features\n",
    "\n",
    "#test for binary features (columns with all 0's or 1s)- all features are continuous!\n",
    "binary_columns = train_df.columns[train_df.isin([0,1]).all()]\n",
    "print (c)\n",
    "\n",
    "#cut data into bins to convert data from continous to binary\n",
    "\n"
   ]
  },
  {
   "cell_type": "code",
   "execution_count": 198,
   "metadata": {},
   "outputs": [
    {
     "name": "stdout",
     "output_type": "stream",
     "text": [
      "Index(['Elevation', 'Aspect', 'Slope', 'Horizontal_Distance_To_Hydrology',\n",
      "       'Vertical_Distance_To_Hydrology', 'Horizontal_Distance_To_Roadways',\n",
      "       'Hillshade_9am', 'Hillshade_Noon', 'Hillshade_3pm',\n",
      "       'Horizontal_Distance_To_Fire_Points', 'Wilderness_Area1',\n",
      "       'Wilderness_Area2', 'Wilderness_Area3', 'Wilderness_Area4',\n",
      "       'Soil_Type1', 'Soil_Type2', 'Soil_Type3', 'Soil_Type4', 'Soil_Type5',\n",
      "       'Soil_Type6', 'Soil_Type7', 'Soil_Type8', 'Soil_Type9', 'Soil_Type10',\n",
      "       'Soil_Type11', 'Soil_Type12', 'Soil_Type13', 'Soil_Type14',\n",
      "       'Soil_Type15', 'Soil_Type16', 'Soil_Type17', 'Soil_Type18',\n",
      "       'Soil_Type19', 'Soil_Type20', 'Soil_Type21', 'Soil_Type22',\n",
      "       'Soil_Type23', 'Soil_Type24', 'Soil_Type25', 'Soil_Type26',\n",
      "       'Soil_Type27', 'Soil_Type28', 'Soil_Type29', 'Soil_Type30',\n",
      "       'Soil_Type31', 'Soil_Type32', 'Soil_Type33', 'Soil_Type34',\n",
      "       'Soil_Type35', 'Soil_Type36', 'Soil_Type37', 'Soil_Type38',\n",
      "       'Soil_Type39', 'Soil_Type40', 'Cover_Type'],\n",
      "      dtype='object')\n"
     ]
    }
   ],
   "source": [
    "#Stratifying the dataset to ensure class distribution is identical within both training and test sets\n",
    "#How to make this mini size?\n",
    "\n",
    "strat_train, strat_test = train_test_split(df, test_size = 0.66, stratify = y)\n",
    "\n",
    "print(strat_train.columns)\n",
    "tr = train.groupby('Cover_Type').count()"
   ]
  },
  {
   "cell_type": "markdown",
   "metadata": {},
   "source": [
    "Scale Data is in the 'Observe impact of the different data processing techniques' section as to not distrupt other data processing techniques"
   ]
  },
  {
   "cell_type": "markdown",
   "metadata": {
    "id": "R9tz-F0Yt5w0"
   },
   "source": [
    "# Model Creation: Hyperparameter Tuning (Blake)"
   ]
  },
  {
   "cell_type": "markdown",
   "metadata": {
    "id": "vclAilWq2dOf"
   },
   "source": [
    "## Observe impact of the following hyperparameters:\n",
    "- Number of neighbors \n",
    "- Weights \n",
    "- Distance formula (Manhattan or Euclidean) \n",
    "- Smoothing Factor?? (I dont think they have this for KNN but I could be wrong)"
   ]
  },
  {
   "cell_type": "code",
   "execution_count": 250,
   "metadata": {
    "colab": {
     "base_uri": "https://localhost:8080/",
     "height": 473
    },
    "id": "cA79FML1tADu",
    "outputId": "11c033c3-f97c-4441-c2da-c17ff2965efd"
   },
   "outputs": [
    {
     "name": "stdout",
     "output_type": "stream",
     "text": [
      "Accuracy of the KNN model with uniform weights, Manhattan Distance, and 1 neighbors is 0.612\n",
      "Accuracy of the KNN model with uniform weights, Manhattan Distance, and 2 neighbors is 0.605\n",
      "Accuracy of the KNN model with uniform weights, Manhattan Distance, and 3 neighbors is 0.616\n",
      "Accuracy of the KNN model with uniform weights, Manhattan Distance, and 4 neighbors is 0.607\n",
      "Accuracy of the KNN model with uniform weights, Manhattan Distance, and 5 neighbors is 0.619\n",
      "Accuracy of the KNN model with uniform weights, Manhattan Distance, and 6 neighbors is 0.619\n",
      "Accuracy of the KNN model with uniform weights, Manhattan Distance, and 7 neighbors is 0.623\n",
      "Accuracy of the KNN model with uniform weights, Manhattan Distance, and 8 neighbors is 0.637\n",
      "Accuracy of the KNN model with uniform weights, Manhattan Distance, and 9 neighbors is 0.641\n",
      "Accuracy of the KNN model with uniform weights, Manhattan Distance, and 10 neighbors is 0.636\n"
     ]
    },
    {
     "data": {
      "image/png": "[encoded data removed]",
      "text/plain": [
       "<Figure size 432x288 with 1 Axes>"
      ]
     },
     "metadata": {
      "needs_background": "light"
     },
     "output_type": "display_data"
    }
   ],
   "source": [
    "# Model for uniform weights and Manhattan Distance across different values of neighbors\n",
    "# set hyperparameters\n",
    "n = [1,2,3,4,5,6,7,8,9,10] # number of neighbors\n",
    "w = 'uniform' # weights{‘uniform’, ‘distance’} or callable, default=’uniform’\n",
    "p_value = 1 #Power parameter for the Minkowski metric. When p = 1, this is equivalent to using manhattan_distance (l1), and euclidean_distance (l2) for p = 2, default=2\n",
    "\n",
    "# Create KNN models across different numbers of neighbors\n",
    "combined_accuracies_1 = []\n",
    "for i in n:\n",
    "  model = KNeighborsClassifier(n_neighbors=i, weights=w, p=p_value)\n",
    "  model.fit(mini_train_data, mini_train_labels)\n",
    "\n",
    "  # Determine the main metric of evaluation: Accuracy\n",
    "  model_accuracy = model.score(mini_test_data, mini_test_labels)\n",
    "  combined_accuracies_1.append(model_accuracy)\n",
    "  print(f\"Accuracy of the KNN model with uniform weights, Manhattan Distance, and {i} neighbors is {model_accuracy}\")\n",
    "\n",
    "# Plot impact of number of neighbors on accuracies \n",
    "plt.figure()\n",
    "plt.plot(n, combined_accuracies_1)\n",
    "plt.xlabel('Number of Neighbors')\n",
    "plt.ylabel('Accuracies')\n",
    "plt.title('Accuracies vs Number of Neighbors')\n",
    "plt.show()\n",
    "\n",
    "# # Determine the supplementary metrics of evaluation: Precision, Recall, and F1\n",
    "# test_predicted_labels = model.predict(mini_test_data)\n",
    "# classification = classification_report(mini_test_labels, test_predicted_labels) # reports Precision, Recall, and F1 Score\n",
    "# print(f\"The classification of KNN model is {classification}\")\n",
    "\n",
    "# # Create a confusion matrix for the model"
   ]
  },
  {
   "cell_type": "code",
   "execution_count": 252,
   "metadata": {
    "colab": {
     "base_uri": "https://localhost:8080/",
     "height": 473
    },
    "id": "nzxsXval9nvu",
    "outputId": "9bf14b45-6468-4942-94bd-e2d8ebbc36fa"
   },
   "outputs": [
    {
     "name": "stdout",
     "output_type": "stream",
     "text": [
      "Accuracy of the KNN model with distance weights, Manhattan Distance, and 1 neighbors is 0.612\n",
      "Accuracy of the KNN model with distance weights, Manhattan Distance, and 2 neighbors is 0.611\n",
      "Accuracy of the KNN model with distance weights, Manhattan Distance, and 3 neighbors is 0.622\n",
      "Accuracy of the KNN model with distance weights, Manhattan Distance, and 4 neighbors is 0.633\n",
      "Accuracy of the KNN model with distance weights, Manhattan Distance, and 5 neighbors is 0.641\n",
      "Accuracy of the KNN model with distance weights, Manhattan Distance, and 6 neighbors is 0.639\n",
      "Accuracy of the KNN model with distance weights, Manhattan Distance, and 7 neighbors is 0.641\n",
      "Accuracy of the KNN model with distance weights, Manhattan Distance, and 8 neighbors is 0.649\n",
      "Accuracy of the KNN model with distance weights, Manhattan Distance, and 9 neighbors is 0.655\n",
      "Accuracy of the KNN model with distance weights, Manhattan Distance, and 10 neighbors is 0.657\n"
     ]
    },
    {
     "data": {
      "image/png": "[encoded data removed]",
      "text/plain": [
       "<Figure size 432x288 with 1 Axes>"
      ]
     },
     "metadata": {
      "needs_background": "light"
     },
     "output_type": "display_data"
    }
   ],
   "source": [
    "# Model for distance weights and Manhattan Distance across different values of neighbors\n",
    "# set hyperparameters\n",
    "n = [1,2,3,4,5,6,7,8,9,10] # number of neighbors\n",
    "w = 'distance' # weights{‘uniform’, ‘distance’} or callable, default=’uniform’\n",
    "p_value = 1 #Power parameter for the Minkowski metric. When p = 1, this is equivalent to using manhattan_distance (l1), and euclidean_distance (l2) for p = 2, default=2\n",
    "\n",
    "# Create KNN models across different numbers of neighbors\n",
    "combined_accuracies_2 = []\n",
    "for i in n:\n",
    "  model = KNeighborsClassifier(n_neighbors=i, weights=w, p=p_value)\n",
    "  model.fit(mini_train_data, mini_train_labels)\n",
    "\n",
    "  # Determine the main metric of evaluation: Accuracy\n",
    "  model_accuracy = model.score(mini_test_data, mini_test_labels)\n",
    "  combined_accuracies_2.append(model_accuracy)\n",
    "  print(f\"Accuracy of the KNN model with distance weights, Manhattan Distance, and {i} neighbors is {model_accuracy}\")\n",
    "\n",
    "# Plot impact of number of neighbors on accuracies \n",
    "plt.figure()\n",
    "plt.plot(n, combined_accuracies_2)\n",
    "plt.xlabel('Number of Neighbors')\n",
    "plt.ylabel('Accuracies')\n",
    "plt.title('Accuracies vs Number of Neighbors')\n",
    "plt.show()"
   ]
  },
  {
   "cell_type": "code",
   "execution_count": 253,
   "metadata": {
    "colab": {
     "base_uri": "https://localhost:8080/",
     "height": 473
    },
    "id": "w-S278239qZA",
    "outputId": "eb1d7735-d7f8-4954-a8f0-731048ef8d0c"
   },
   "outputs": [
    {
     "name": "stdout",
     "output_type": "stream",
     "text": [
      "Accuracy of the KNN model with uniform weights, Euclidean Distance, and 1 neighbors is 0.617\n",
      "Accuracy of the KNN model with uniform weights, Euclidean Distance, and 2 neighbors is 0.614\n",
      "Accuracy of the KNN model with uniform weights, Euclidean Distance, and 3 neighbors is 0.609\n",
      "Accuracy of the KNN model with uniform weights, Euclidean Distance, and 4 neighbors is 0.614\n",
      "Accuracy of the KNN model with uniform weights, Euclidean Distance, and 5 neighbors is 0.618\n",
      "Accuracy of the KNN model with uniform weights, Euclidean Distance, and 6 neighbors is 0.614\n",
      "Accuracy of the KNN model with uniform weights, Euclidean Distance, and 7 neighbors is 0.623\n",
      "Accuracy of the KNN model with uniform weights, Euclidean Distance, and 8 neighbors is 0.627\n",
      "Accuracy of the KNN model with uniform weights, Euclidean Distance, and 9 neighbors is 0.632\n",
      "Accuracy of the KNN model with uniform weights, Euclidean Distance, and 10 neighbors is 0.643\n"
     ]
    },
    {
     "data": {
      "image/png": "[encoded data removed]",
      "text/plain": [
       "<Figure size 432x288 with 1 Axes>"
      ]
     },
     "metadata": {
      "needs_background": "light"
     },
     "output_type": "display_data"
    }
   ],
   "source": [
    "# Model for uniform weights and Euclidean Distance across different values of neighbors\n",
    "# set hyperparameters\n",
    "n = [1,2,3,4,5,6,7,8,9,10] # number of neighbors\n",
    "w = 'uniform' # weights{‘uniform’, ‘distance’} or callable, default=’uniform’\n",
    "p_value = 2 #Power parameter for the Minkowski metric. When p = 1, this is equivalent to using manhattan_distance (l1), and euclidean_distance (l2) for p = 2, default=2\n",
    "\n",
    "# Create KNN models across different numbers of neighbors\n",
    "combined_accuracies_3 = []\n",
    "for i in n:\n",
    "  model = KNeighborsClassifier(n_neighbors=i, weights=w, p=p_value)\n",
    "  model.fit(mini_train_data, mini_train_labels)\n",
    "\n",
    "  # Determine the main metric of evaluation: Accuracy\n",
    "  model_accuracy = model.score(mini_test_data, mini_test_labels)\n",
    "  combined_accuracies_3.append(model_accuracy)\n",
    "  print(f\"Accuracy of the KNN model with uniform weights, Euclidean Distance, and {i} neighbors is {model_accuracy}\")\n",
    "\n",
    "# Plot impact of number of neighbors on accuracies \n",
    "plt.figure()\n",
    "plt.plot(n, combined_accuracies_3)\n",
    "plt.xlabel('Number of Neighbors')\n",
    "plt.ylabel('Accuracies')\n",
    "plt.title('Accuracies vs Number of Neighbors')\n",
    "plt.show()"
   ]
  },
  {
   "cell_type": "code",
   "execution_count": 254,
   "metadata": {
    "colab": {
     "base_uri": "https://localhost:8080/",
     "height": 473
    },
    "id": "3paP6tk69qqX",
    "outputId": "0ba1ed5e-0fa1-459a-9834-b007f6058f65"
   },
   "outputs": [
    {
     "name": "stdout",
     "output_type": "stream",
     "text": [
      "Accuracy of the KNN model with distance weights, Euclidean Distance, and 1 neighbors is 0.617\n",
      "Accuracy of the KNN model with distance weights, Euclidean Distance, and 2 neighbors is 0.617\n",
      "Accuracy of the KNN model with distance weights, Euclidean Distance, and 3 neighbors is 0.626\n",
      "Accuracy of the KNN model with distance weights, Euclidean Distance, and 4 neighbors is 0.641\n",
      "Accuracy of the KNN model with distance weights, Euclidean Distance, and 5 neighbors is 0.635\n",
      "Accuracy of the KNN model with distance weights, Euclidean Distance, and 6 neighbors is 0.644\n",
      "Accuracy of the KNN model with distance weights, Euclidean Distance, and 7 neighbors is 0.636\n",
      "Accuracy of the KNN model with distance weights, Euclidean Distance, and 8 neighbors is 0.648\n",
      "Accuracy of the KNN model with distance weights, Euclidean Distance, and 9 neighbors is 0.646\n",
      "Accuracy of the KNN model with distance weights, Euclidean Distance, and 10 neighbors is 0.649\n"
     ]
    },
    {
     "data": {
      "image/png": "[encoded data removed]",
      "text/plain": [
       "<Figure size 432x288 with 1 Axes>"
      ]
     },
     "metadata": {
      "needs_background": "light"
     },
     "output_type": "display_data"
    }
   ],
   "source": [
    "# Model for distance weights and Euclidean Distance across different values of neighbors\n",
    "# set hyperparameters\n",
    "n = [1,2,3,4,5,6,7,8,9,10] # number of neighbors\n",
    "w = 'distance' # weights{‘uniform’, ‘distance’} or callable, default=’uniform’\n",
    "p_value = 2 #Power parameter for the Minkowski metric. When p = 1, this is equivalent to using manhattan_distance (l1), and euclidean_distance (l2) for p = 2, default=2\n",
    "\n",
    "# Create KNN models across different numbers of neighbors\n",
    "combined_accuracies_4 = []\n",
    "for i in n:\n",
    "  model = KNeighborsClassifier(n_neighbors=i, weights=w, p=p_value)\n",
    "  model.fit(mini_train_data, mini_train_labels)\n",
    "\n",
    "  # Determine the main metric of evaluation: Accuracy\n",
    "  model_accuracy = model.score(mini_test_data, mini_test_labels)\n",
    "  combined_accuracies_4.append(model_accuracy)\n",
    "  print(f\"Accuracy of the KNN model with distance weights, Euclidean Distance, and {i} neighbors is {model_accuracy}\")\n",
    "\n",
    "# Plot impact of number of neighbors on accuracies \n",
    "plt.figure()\n",
    "plt.plot(n, combined_accuracies_4)\n",
    "plt.xlabel('Number of Neighbors')\n",
    "plt.ylabel('Accuracies')\n",
    "plt.title('Accuracies vs Number of Neighbors')\n",
    "plt.show()"
   ]
  },
  {
   "cell_type": "code",
   "execution_count": 188,
   "metadata": {
    "colab": {
     "base_uri": "https://localhost:8080/",
     "height": 295
    },
    "id": "eMXIU5nTAP7W",
    "outputId": "fa3477ef-7709-4b29-f725-a9a9c2084f55"
   },
   "outputs": [
    {
     "data": {
      "image/png": "[encoded data removed]",
      "text/plain": [
       "<Figure size 432x288 with 1 Axes>"
      ]
     },
     "metadata": {
      "needs_background": "light"
     },
     "output_type": "display_data"
    }
   ],
   "source": [
    "# plot all model accuracies together to determine best hyperparameters\n",
    "plt.figure()\n",
    "plt.plot(n, combined_accuracies_1, label = \"Uniform Weights and Manhattan Distance\")\n",
    "plt.plot(n, combined_accuracies_2, label = \"Distance Weights and Manhattan Distance\")\n",
    "plt.plot(n, combined_accuracies_3, label = \"Uniform Weights and Euclidean Distance\")\n",
    "plt.plot(n, combined_accuracies_4, label = \"Distance Weights and Euclidean Distance\")\n",
    "plt.xlabel('Number of Neighbors')\n",
    "plt.ylabel('Accuracies')\n",
    "plt.title('Accuracies vs Number of Neighbors')\n",
    "plt.legend()\n",
    "plt.show()"
   ]
  },
  {
   "cell_type": "code",
   "execution_count": 232,
   "metadata": {
    "colab": {
     "base_uri": "https://localhost:8080/"
    },
    "id": "SRG2MNTpBFbe",
    "outputId": "8b3a4320-22ec-44af-9ace-5bf97cf2d35c"
   },
   "outputs": [
    {
     "name": "stdout",
     "output_type": "stream",
     "text": [
      "Accuracy of the KNN model with distance weights, Manhattan Distance, and 5 neighbors is 0.686\n",
      "The classification of KNN model is               precision    recall  f1-score   support\n",
      "\n",
      "           0       0.67      0.71      0.69       374\n",
      "           1       0.70      0.76      0.73       489\n",
      "           2       0.70      0.68      0.69        56\n",
      "           3       1.00      0.17      0.29         6\n",
      "           4       1.00      0.07      0.12        15\n",
      "           5       0.56      0.21      0.30        24\n",
      "           6       0.67      0.11      0.19        36\n",
      "\n",
      "    accuracy                           0.69      1000\n",
      "   macro avg       0.76      0.39      0.43      1000\n",
      "weighted avg       0.69      0.69      0.67      1000\n",
      "\n",
      "[[264 108   0   0   0   0   2]\n",
      " [111 373   4   0   0   1   0]\n",
      " [  0  16  38   0   0   2   0]\n",
      " [  0   0   4   1   0   1   0]\n",
      " [  1  13   0   0   1   0   0]\n",
      " [  0  11   8   0   0   5   0]\n",
      " [ 19  13   0   0   0   0   4]]\n"
     ]
    }
   ],
   "source": [
    "# Create the KNN model with the hyperparameters that produce the highest accuracy: Distance weights, Manhattan Distance, and 5 neighbors\n",
    "# set hyperparameters\n",
    "n = 5 # number of neighbors\n",
    "w = 'distance' # weights{‘uniform’, ‘distance’} or callable, default=’uniform’\n",
    "p_value = 1 #Power parameter for the Minkowski metric. When p = 1, this is equivalent to using manhattan_distance (l1), and euclidean_distance (l2) for p = 2, default=2\n",
    "\n",
    "# Create KNN model\n",
    "model = KNeighborsClassifier(n_neighbors=i, weights=w, p=p_value)\n",
    "model.fit(mini_train_data, mini_train_labels)\n",
    "\n",
    "# Determine the main metric of evaluation: Accuracy\n",
    "model_accuracy = model.score(mini_test_data, mini_test_labels)\n",
    "print(f\"Accuracy of the KNN model with distance weights, Manhattan Distance, and 5 neighbors is {model_accuracy}\")\n",
    "\n",
    "# Determine the supplementary metrics of evaluation: Precision, Recall, and F1\n",
    "test_predicted_labels = model.predict(mini_test_data)\n",
    "classification = classification_report(mini_test_labels, test_predicted_labels) # reports Precision, Recall, and F1 Score\n",
    "print(f\"The classification of KNN model is {classification}\")\n",
    "\n",
    "# Create a confusion matrix for the model\n",
    "print(confusion_matrix(mini_test_labels, test_predicted_labels))"
   ]
  },
  {
   "cell_type": "markdown",
   "metadata": {},
   "source": [
    "## Observe impact of the different data processing techniques\n",
    "- Normalizing data (data to have values between 0 and 1)\n",
    "- Converting continous features to be binary\n",
    "- Stratifying the dataset to ensure class distribution is identical within both training and test sets\n",
    "- Scaling data"
   ]
  },
  {
   "cell_type": "code",
   "execution_count": 255,
   "metadata": {},
   "outputs": [
    {
     "name": "stdout",
     "output_type": "stream",
     "text": [
      "Accuracy of the KNN model with distance weights, Manhattan Distance, 5 neighbors, and using normalized data is 0.464\n",
      "The classification of KNN model is               precision    recall  f1-score   support\n",
      "\n",
      "           0       0.00      0.00      0.00       394\n",
      "           1       0.46      1.00      0.63       464\n",
      "           2       0.00      0.00      0.00        60\n",
      "           3       0.00      0.00      0.00         6\n",
      "           4       0.00      0.00      0.00        19\n",
      "           5       0.00      0.00      0.00        24\n",
      "           6       0.00      0.00      0.00        33\n",
      "\n",
      "    accuracy                           0.46      1000\n",
      "   macro avg       0.07      0.14      0.09      1000\n",
      "weighted avg       0.22      0.46      0.29      1000\n",
      "\n",
      "[[  0 394   0   0   0   0   0]\n",
      " [  0 464   0   0   0   0   0]\n",
      " [  0  60   0   0   0   0   0]\n",
      " [  0   6   0   0   0   0   0]\n",
      " [  0  19   0   0   0   0   0]\n",
      " [  0  24   0   0   0   0   0]\n",
      " [  0  33   0   0   0   0   0]]\n"
     ]
    },
    {
     "name": "stderr",
     "output_type": "stream",
     "text": [
      "/Users/andrewbeckerman/opt/anaconda3/lib/python3.8/site-packages/sklearn/metrics/_classification.py:1221: UndefinedMetricWarning: Precision and F-score are ill-defined and being set to 0.0 in labels with no predicted samples. Use `zero_division` parameter to control this behavior.\n",
      "  _warn_prf(average, modifier, msg_start, len(result))\n"
     ]
    }
   ],
   "source": [
    "#Normalizing data\n",
    "n = 5 # number of neighbors\n",
    "w = 'distance' # weights{‘uniform’, ‘distance’} or callable, default=’uniform’\n",
    "p_value = 1 #Power parameter for the Minkowski metric. When p = 1, this is equivalent to using manhattan_distance (l1), and euclidean_distance (l2) for p = 2, default=2\n",
    "\n",
    "# Create KNN model\n",
    "model = KNeighborsClassifier(n_neighbors=i, weights=w, p=p_value)\n",
    "model.fit(normalized_mini_training_data, mini_train_labels)\n",
    "\n",
    "# Determine the main metric of evaluation: Accuracy\n",
    "model_accuracy_normalized_data = model.score(mini_test_data, mini_test_labels)\n",
    "print(f\"Accuracy of the KNN model with distance weights, Manhattan Distance, 5 neighbors, and using normalized data is {model_accuracy_normalized_data}\")\n",
    "\n",
    "# Determine the supplementary metrics of evaluation: Precision, Recall, and F1\n",
    "test_predicted_labels = model.predict(mini_test_data)\n",
    "classification = classification_report(mini_test_labels, test_predicted_labels) # reports Precision, Recall, and F1 Score\n",
    "print(f\"The classification of KNN model is {classification}\")\n",
    "\n",
    "# Create a confusion matrix for the model\n",
    "print(confusion_matrix(mini_test_labels, test_predicted_labels))"
   ]
  },
  {
   "cell_type": "code",
   "execution_count": 208,
   "metadata": {},
   "outputs": [
    {
     "name": "stdout",
     "output_type": "stream",
     "text": [
      "Accuracy of the KNN model with distance weights, Manhattan Distance, and 5 neighbors is 0.481\n",
      "The classification of KNN model is               precision    recall  f1-score   support\n",
      "\n",
      "           0       0.42      0.40      0.41       368\n",
      "           1       0.51      0.66      0.58       505\n",
      "           2       0.00      0.00      0.00        46\n",
      "           3       0.00      0.00      0.00         8\n",
      "           4       0.00      0.00      0.00        18\n",
      "           5       0.00      0.00      0.00        26\n",
      "           6       0.00      0.00      0.00        29\n",
      "\n",
      "    accuracy                           0.48      1000\n",
      "   macro avg       0.13      0.15      0.14      1000\n",
      "weighted avg       0.41      0.48      0.44      1000\n",
      "\n",
      "[[146 222   0   0   0   0   0]\n",
      " [169 335   1   0   0   0   0]\n",
      " [  6  40   0   0   0   0   0]\n",
      " [  0   8   0   0   0   0   0]\n",
      " [  7  11   0   0   0   0   0]\n",
      " [  5  21   0   0   0   0   0]\n",
      " [ 12  17   0   0   0   0   0]]\n"
     ]
    },
    {
     "name": "stderr",
     "output_type": "stream",
     "text": [
      "/Users/andrewbeckerman/opt/anaconda3/lib/python3.8/site-packages/sklearn/metrics/_classification.py:1221: UndefinedMetricWarning: Precision and F-score are ill-defined and being set to 0.0 in labels with no predicted samples. Use `zero_division` parameter to control this behavior.\n",
      "  _warn_prf(average, modifier, msg_start, len(result))\n"
     ]
    }
   ],
   "source": [
    "#Stratifying data\n"
   ]
  },
  {
   "cell_type": "code",
   "execution_count": 238,
   "metadata": {},
   "outputs": [
    {
     "name": "stdout",
     "output_type": "stream",
     "text": [
      "data shape:  (581012, 54)\n",
      "label shape: (581012,)\n",
      "Accuracy of the KNN model with distance weights, Manhattan Distance, 5 neighbors, and using scaled data is 0.66\n",
      "The classification of KNN model is               precision    recall  f1-score   support\n",
      "\n",
      "           0       0.64      0.55      0.59       363\n",
      "           1       0.68      0.80      0.74       484\n",
      "           2       0.68      0.78      0.73        63\n",
      "           3       0.67      0.40      0.50         5\n",
      "           4       1.00      0.05      0.10        19\n",
      "           5       0.44      0.32      0.37        25\n",
      "           6       0.48      0.29      0.36        41\n",
      "\n",
      "    accuracy                           0.66      1000\n",
      "   macro avg       0.66      0.46      0.48      1000\n",
      "weighted avg       0.66      0.66      0.65      1000\n",
      "\n",
      "[[199 151   0   0   0   0  13]\n",
      " [ 79 389  11   0   0   5   0]\n",
      " [  1   7  49   1   0   5   0]\n",
      " [  0   1   2   2   0   0   0]\n",
      " [  6  12   0   0   1   0   0]\n",
      " [  0   7  10   0   0   8   0]\n",
      " [ 26   3   0   0   0   0  12]]\n"
     ]
    }
   ],
   "source": [
    "#Scaling Data\n",
    "# Load the data from covtype.zip\n",
    "with ZipFile(\"covtype.zip\") as myzip:\n",
    "  data = myzip.open(\"covtype.csv\")\n",
    "df = pd.read_csv(data)\n",
    "X = preprocessing.scale(df.values[:, :-1])\n",
    "y = df.values[:, -1]\n",
    "\n",
    "# ensure input data is floats\n",
    "X = X.astype('float32')\n",
    "\n",
    "# label encode target and ensure the values are floats\n",
    "y = LabelEncoder().fit_transform(y)\n",
    "\n",
    "# Shuffle the input: create a random permutation of the integers between 0 and the number of data points and apply this\n",
    "# permutation to X and Y.\n",
    "# NOTE: Each time you run this cell, you'll re-shuffle the data, resulting in a different ordering.\n",
    "shuffle = np.random.permutation(np.arange(X.shape[0]))\n",
    "X, y = X[shuffle], y[shuffle]\n",
    "\n",
    "print('data shape: ', X.shape)\n",
    "print('label shape:', y.shape)\n",
    "\n",
    "# Set some variables to hold test and training data.\n",
    "len_test = int(len(y)* (2/3))\n",
    "len_train = int(len(y) * (1/3))+1\n",
    "test_data, test_labels = X[len_test:], y[len_test:]\n",
    "scaled_train_data, train_labels = X[:len_train], y[:len_train]\n",
    "scaled_mini_train_data, mini_train_labels = scaled_train_data[:1000], train_labels[: 1000]\n",
    "mini_test_data, mini_test_labels = test_data[:1000], test_labels[:1000]\n",
    "\n",
    "n = 5 # number of neighbors\n",
    "w = 'distance' # weights{‘uniform’, ‘distance’} or callable, default=’uniform’\n",
    "p_value = 1 #Power parameter for the Minkowski metric. When p = 1, this is equivalent to using manhattan_distance (l1), and euclidean_distance (l2) for p = 2, default=2\n",
    "\n",
    "# Create KNN model\n",
    "model = KNeighborsClassifier(n_neighbors=i, weights=w, p=p_value)\n",
    "model.fit(scaled_mini_train_data, mini_train_labels)\n",
    "\n",
    "# Determine the main metric of evaluation: Accuracy\n",
    "model_accuracy_scaled_data = model.score(mini_test_data, mini_test_labels)\n",
    "print(f\"Accuracy of the KNN model with distance weights, Manhattan Distance, 5 neighbors, and using scaled data is {model_accuracy_scaled_data}\")\n",
    "\n",
    "# Determine the supplementary metrics of evaluation: Precision, Recall, and F1\n",
    "test_predicted_labels = model.predict(mini_test_data)\n",
    "classification = classification_report(mini_test_labels, test_predicted_labels) # reports Precision, Recall, and F1 Score\n",
    "print(f\"The classification of KNN model is {classification}\")\n",
    "\n",
    "# Create a confusion matrix for the model\n",
    "print(confusion_matrix(mini_test_labels, test_predicted_labels))"
   ]
  },
  {
   "cell_type": "code",
   "execution_count": 246,
   "metadata": {},
   "outputs": [
    {
     "data": {
      "image/png": "[encoded data removed]",
      "text/plain": [
       "<Figure size 432x288 with 1 Axes>"
      ]
     },
     "metadata": {
      "needs_background": "light"
     },
     "output_type": "display_data"
    }
   ],
   "source": [
    "# plot all model accuracies together to determine best data processing method\n",
    "fig = plt.figure()\n",
    "ax = fig.add_axes([0,0,1,1])\n",
    "data_process = ['No Data Processing', 'Normalized Data', 'Scaled Data']\n",
    "#plt.plot(model_accuracy, label = \"No Data Processing\")\n",
    "#plt.plot(model_accuracy_normalized_data, label = \"Normalized Data\")\n",
    "#plt.plot(model_accuracy_scaled_data, label = \"Scaled Data\")\n",
    "\n",
    "model_accuracies = [model_accuracy,model_accuracy_normalized_data,model_accuracy_scaled_data]\n",
    "ax.bar(data_process,model_accuracies)\n",
    "\n",
    "plt.ylabel('Accuracy')\n",
    "plt.title('Accuracies for Data Processing Methods')\n",
    "plt.show()\n"
   ]
  },
  {
   "cell_type": "markdown",
   "metadata": {
    "id": "f5UklDvX6vk8"
   },
   "source": [
    "# Model Creation: Feature Engineering"
   ]
  },
  {
   "cell_type": "markdown",
   "metadata": {
    "id": "Dq-hTGOZ6I_Y"
   },
   "source": [
    "## Observe the impact of the following Feature Engineering Techniques: \n",
    "- TBD "
   ]
  },
  {
   "cell_type": "code",
   "execution_count": null,
   "metadata": {
    "id": "7vbQJoJg63EA"
   },
   "outputs": [],
   "source": []
  }
 ],
 "metadata": {
  "colab": {
   "authorship_tag": "ABX9TyN+4+K3b7L2kNOmMbJ9v2DY",
   "include_colab_link": true,
   "name": "W207_Final_Project_KNN.ipynb",
   "provenance": []
  },
  "kernelspec": {
   "display_name": "Python 3",
   "language": "python",
   "name": "python3"
  },
  "language_info": {
   "codemirror_mode": {
    "name": "ipython",
    "version": 3
   },
   "file_extension": ".py",
   "mimetype": "text/x-python",
   "name": "python",
   "nbconvert_exporter": "python",
   "pygments_lexer": "ipython3",
   "version": "3.8.5"
  }
 },
 "nbformat": 4,
 "nbformat_minor": 1
}
