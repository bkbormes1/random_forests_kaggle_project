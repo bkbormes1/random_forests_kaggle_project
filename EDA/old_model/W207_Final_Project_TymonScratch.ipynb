{
 "cells": [
  {
   "cell_type": "markdown",
   "metadata": {
    "colab_type": "text",
    "id": "view-in-github"
   },
   "source": [
    "<a href=\"https://colab.research.google.com/github/savitaChari/W207-Final-Project-Group3_Section6/blob/main/EDA/W207_Final_Project_EDA_v4.ipynb\" target=\"_parent\"><img src=\"https://colab.research.google.com/assets/colab-badge.svg\" alt=\"Open In Colab\"/></a>"
   ]
  },
  {
   "cell_type": "markdown",
   "metadata": {
    "id": "GE8L6fdVLPfw"
   },
   "source": [
    "# W207 final project (Section:6 )(Group:3)\n",
    "# Title: Forest Cover Type Prediction\n",
    "### Members: Savita Chari, Tymon Silva, Blake Bormes, Andrew Beckerman\n",
    "### Data Source: https://www.kaggle.com/c/forest-cover-type-prediction/data"
   ]
  },
  {
   "cell_type": "markdown",
   "metadata": {
    "colab": {
     "base_uri": "https://localhost:8080/",
     "height": 35
    },
    "id": "pYi8D8Zs6F_T",
    "outputId": "d7198796-c94a-4a3a-da94-b2a1eb75b6f8"
   },
   "source": [
    "### SETUP\n",
    "<hr>"
   ]
  },
  {
   "cell_type": "code",
   "execution_count": 1,
   "metadata": {},
   "outputs": [
    {
     "data": {
      "text/plain": [
       "<torch._C.Generator at 0x20945129bf0>"
      ]
     },
     "execution_count": 1,
     "metadata": {},
     "output_type": "execute_result"
    }
   ],
   "source": [
    "import pandas as pd\n",
    "import sklearn as skl\n",
    "from sklearn.model_selection import train_test_split\n",
    "from sklearn import preprocessing\n",
    "import seaborn as sns\n",
    "from scipy import stats\n",
    "import numpy as np\n",
    "import matplotlib.pyplot as plt\n",
    "import matplotlib.pylab as pyplt\n",
    "import random \n",
    "import itertools \n",
    "pd.__version__\n",
    "\n",
    "from zipfile import ZipFile, Path\n",
    "\n",
    "import torch\n",
    "import torch.nn as nn\n",
    "import torch.optim\n",
    "import torch.utils.data\n",
    "\n",
    "torch.manual_seed(26)\n"
   ]
  },
  {
   "cell_type": "code",
   "execution_count": 2,
   "metadata": {
    "colab": {
     "base_uri": "https://localhost:8080/"
    },
    "id": "xp53g6Jg6V10",
    "outputId": "36461340-03a6-490f-9c63-ac0a1f699039"
   },
   "outputs": [],
   "source": [
    "# Get Data\n",
    "with ZipFile(\"covtype.zip\") as myzip:\n",
    "    data = myzip.open(\"covtype.csv\")\n",
    "df = pd.read_csv(data)"
   ]
  },
  {
   "cell_type": "markdown",
   "metadata": {},
   "source": [
    "### EDA\n",
    "<hr>"
   ]
  },
  {
   "cell_type": "code",
   "execution_count": 3,
   "metadata": {},
   "outputs": [
    {
     "data": {
      "text/html": [
       "<div>\n",
       "<style scoped>\n",
       "    .dataframe tbody tr th:only-of-type {\n",
       "        vertical-align: middle;\n",
       "    }\n",
       "\n",
       "    .dataframe tbody tr th {\n",
       "        vertical-align: top;\n",
       "    }\n",
       "\n",
       "    .dataframe thead th {\n",
       "        text-align: right;\n",
       "    }\n",
       "</style>\n",
       "<table border=\"1\" class=\"dataframe\">\n",
       "  <thead>\n",
       "    <tr style=\"text-align: right;\">\n",
       "      <th></th>\n",
       "      <th>Elevation</th>\n",
       "      <th>Aspect</th>\n",
       "      <th>Slope</th>\n",
       "      <th>Horizontal_Distance_To_Hydrology</th>\n",
       "      <th>Vertical_Distance_To_Hydrology</th>\n",
       "      <th>Horizontal_Distance_To_Roadways</th>\n",
       "      <th>Hillshade_9am</th>\n",
       "      <th>Hillshade_Noon</th>\n",
       "      <th>Hillshade_3pm</th>\n",
       "      <th>Horizontal_Distance_To_Fire_Points</th>\n",
       "      <th>...</th>\n",
       "      <th>Soil_Type32</th>\n",
       "      <th>Soil_Type33</th>\n",
       "      <th>Soil_Type34</th>\n",
       "      <th>Soil_Type35</th>\n",
       "      <th>Soil_Type36</th>\n",
       "      <th>Soil_Type37</th>\n",
       "      <th>Soil_Type38</th>\n",
       "      <th>Soil_Type39</th>\n",
       "      <th>Soil_Type40</th>\n",
       "      <th>Cover_Type</th>\n",
       "    </tr>\n",
       "  </thead>\n",
       "  <tbody>\n",
       "    <tr>\n",
       "      <th>0</th>\n",
       "      <td>2596</td>\n",
       "      <td>51</td>\n",
       "      <td>3</td>\n",
       "      <td>258</td>\n",
       "      <td>0</td>\n",
       "      <td>510</td>\n",
       "      <td>221</td>\n",
       "      <td>232</td>\n",
       "      <td>148</td>\n",
       "      <td>6279</td>\n",
       "      <td>...</td>\n",
       "      <td>0</td>\n",
       "      <td>0</td>\n",
       "      <td>0</td>\n",
       "      <td>0</td>\n",
       "      <td>0</td>\n",
       "      <td>0</td>\n",
       "      <td>0</td>\n",
       "      <td>0</td>\n",
       "      <td>0</td>\n",
       "      <td>5</td>\n",
       "    </tr>\n",
       "    <tr>\n",
       "      <th>1</th>\n",
       "      <td>2590</td>\n",
       "      <td>56</td>\n",
       "      <td>2</td>\n",
       "      <td>212</td>\n",
       "      <td>-6</td>\n",
       "      <td>390</td>\n",
       "      <td>220</td>\n",
       "      <td>235</td>\n",
       "      <td>151</td>\n",
       "      <td>6225</td>\n",
       "      <td>...</td>\n",
       "      <td>0</td>\n",
       "      <td>0</td>\n",
       "      <td>0</td>\n",
       "      <td>0</td>\n",
       "      <td>0</td>\n",
       "      <td>0</td>\n",
       "      <td>0</td>\n",
       "      <td>0</td>\n",
       "      <td>0</td>\n",
       "      <td>5</td>\n",
       "    </tr>\n",
       "    <tr>\n",
       "      <th>2</th>\n",
       "      <td>2804</td>\n",
       "      <td>139</td>\n",
       "      <td>9</td>\n",
       "      <td>268</td>\n",
       "      <td>65</td>\n",
       "      <td>3180</td>\n",
       "      <td>234</td>\n",
       "      <td>238</td>\n",
       "      <td>135</td>\n",
       "      <td>6121</td>\n",
       "      <td>...</td>\n",
       "      <td>0</td>\n",
       "      <td>0</td>\n",
       "      <td>0</td>\n",
       "      <td>0</td>\n",
       "      <td>0</td>\n",
       "      <td>0</td>\n",
       "      <td>0</td>\n",
       "      <td>0</td>\n",
       "      <td>0</td>\n",
       "      <td>2</td>\n",
       "    </tr>\n",
       "    <tr>\n",
       "      <th>3</th>\n",
       "      <td>2785</td>\n",
       "      <td>155</td>\n",
       "      <td>18</td>\n",
       "      <td>242</td>\n",
       "      <td>118</td>\n",
       "      <td>3090</td>\n",
       "      <td>238</td>\n",
       "      <td>238</td>\n",
       "      <td>122</td>\n",
       "      <td>6211</td>\n",
       "      <td>...</td>\n",
       "      <td>0</td>\n",
       "      <td>0</td>\n",
       "      <td>0</td>\n",
       "      <td>0</td>\n",
       "      <td>0</td>\n",
       "      <td>0</td>\n",
       "      <td>0</td>\n",
       "      <td>0</td>\n",
       "      <td>0</td>\n",
       "      <td>2</td>\n",
       "    </tr>\n",
       "    <tr>\n",
       "      <th>4</th>\n",
       "      <td>2595</td>\n",
       "      <td>45</td>\n",
       "      <td>2</td>\n",
       "      <td>153</td>\n",
       "      <td>-1</td>\n",
       "      <td>391</td>\n",
       "      <td>220</td>\n",
       "      <td>234</td>\n",
       "      <td>150</td>\n",
       "      <td>6172</td>\n",
       "      <td>...</td>\n",
       "      <td>0</td>\n",
       "      <td>0</td>\n",
       "      <td>0</td>\n",
       "      <td>0</td>\n",
       "      <td>0</td>\n",
       "      <td>0</td>\n",
       "      <td>0</td>\n",
       "      <td>0</td>\n",
       "      <td>0</td>\n",
       "      <td>5</td>\n",
       "    </tr>\n",
       "  </tbody>\n",
       "</table>\n",
       "<p>5 rows × 55 columns</p>\n",
       "</div>"
      ],
      "text/plain": [
       "   Elevation  Aspect  Slope  Horizontal_Distance_To_Hydrology  \\\n",
       "0       2596      51      3                               258   \n",
       "1       2590      56      2                               212   \n",
       "2       2804     139      9                               268   \n",
       "3       2785     155     18                               242   \n",
       "4       2595      45      2                               153   \n",
       "\n",
       "   Vertical_Distance_To_Hydrology  Horizontal_Distance_To_Roadways  \\\n",
       "0                               0                              510   \n",
       "1                              -6                              390   \n",
       "2                              65                             3180   \n",
       "3                             118                             3090   \n",
       "4                              -1                              391   \n",
       "\n",
       "   Hillshade_9am  Hillshade_Noon  Hillshade_3pm  \\\n",
       "0            221             232            148   \n",
       "1            220             235            151   \n",
       "2            234             238            135   \n",
       "3            238             238            122   \n",
       "4            220             234            150   \n",
       "\n",
       "   Horizontal_Distance_To_Fire_Points  ...  Soil_Type32  Soil_Type33  \\\n",
       "0                                6279  ...            0            0   \n",
       "1                                6225  ...            0            0   \n",
       "2                                6121  ...            0            0   \n",
       "3                                6211  ...            0            0   \n",
       "4                                6172  ...            0            0   \n",
       "\n",
       "   Soil_Type34  Soil_Type35  Soil_Type36  Soil_Type37  Soil_Type38  \\\n",
       "0            0            0            0            0            0   \n",
       "1            0            0            0            0            0   \n",
       "2            0            0            0            0            0   \n",
       "3            0            0            0            0            0   \n",
       "4            0            0            0            0            0   \n",
       "\n",
       "   Soil_Type39  Soil_Type40  Cover_Type  \n",
       "0            0            0           5  \n",
       "1            0            0           5  \n",
       "2            0            0           2  \n",
       "3            0            0           2  \n",
       "4            0            0           5  \n",
       "\n",
       "[5 rows x 55 columns]"
      ]
     },
     "execution_count": 3,
     "metadata": {},
     "output_type": "execute_result"
    }
   ],
   "source": [
    "df.head()"
   ]
  },
  {
   "cell_type": "code",
   "execution_count": 4,
   "metadata": {},
   "outputs": [
    {
     "name": "stdout",
     "output_type": "stream",
     "text": [
      "Train Dataset Shape: (581012, 55)\n"
     ]
    }
   ],
   "source": [
    "print(\"Train Dataset Shape:\",df.shape)"
   ]
  },
  {
   "cell_type": "code",
   "execution_count": 5,
   "metadata": {},
   "outputs": [
    {
     "data": {
      "text/plain": [
       "<AxesSubplot:xlabel='Cover_Type', ylabel='count'>"
      ]
     },
     "execution_count": 5,
     "metadata": {},
     "output_type": "execute_result"
    },
    {
     "data": {
      "image/png": "[encoded data removed]",
      "text/plain": [
       "<Figure size 432x288 with 1 Axes>"
      ]
     },
     "metadata": {
      "needs_background": "light"
     },
     "output_type": "display_data"
    }
   ],
   "source": [
    "import seaborn as sns\n",
    "\n",
    "sns.countplot(x = 'Cover_Type', data=df)"
   ]
  },
  {
   "cell_type": "code",
   "execution_count": 6,
   "metadata": {},
   "outputs": [
    {
     "data": {
      "text/plain": [
       "<AxesSubplot:xlabel='Cover_Type', ylabel='count'>"
      ]
     },
     "execution_count": 6,
     "metadata": {},
     "output_type": "execute_result"
    },
    {
     "data": {
      "image/png": "[encoded data removed]",
      "text/plain": [
       "<Figure size 432x288 with 1 Axes>"
      ]
     },
     "metadata": {
      "needs_background": "light"
     },
     "output_type": "display_data"
    }
   ],
   "source": [
    "df['Cover_Type'] = df['Cover_Type'] - 1\n",
    "sns.countplot(x = 'Cover_Type', data=df)"
   ]
  },
  {
   "cell_type": "code",
   "execution_count": 7,
   "metadata": {},
   "outputs": [
    {
     "name": "stdout",
     "output_type": "stream",
     "text": [
      "Number of Null Values in training Dataset: 0\n"
     ]
    }
   ],
   "source": [
    "#Check for Null Values in training DataSet\n",
    "print(\"Number of Null Values in training Dataset:\", (df.isnull()==True).sum().sum())"
   ]
  },
  {
   "cell_type": "markdown",
   "metadata": {},
   "source": [
    "### EDA Insights\n",
    "#### From our initial data analysis we can expect that some key factors in our classification model could be elevation, aspect, horizontal distance to fires, and horizontal distance to roads. Wilderness types may have little impact when predicting forest cover types, but we could find that certain wilderness types such as types one and four, could have some correlation to determining forest cover type. We expect to see vertical distance to hydro to have little impact in predicting forest cover type. Additionally, from the box plots of our continuous variables we have a good idea of their distributions, means, and variances. The distance measures tend to have high variances. The hillshade values at 9am and Noon seem to have similar distributions, and therefore we could see that hillshade 3pm is a feature that has more predictive power than the other two hillshade measures."
   ]
  },
  {
   "cell_type": "markdown",
   "metadata": {},
   "source": [
    "### DATA PREP\n",
    "<hr>"
   ]
  },
  {
   "cell_type": "code",
   "execution_count": 8,
   "metadata": {},
   "outputs": [],
   "source": [
    "train, dev_test = train_test_split(df, test_size=0.3)\n",
    "test, dev = train_test_split(dev_test, test_size=0.33)"
   ]
  },
  {
   "cell_type": "code",
   "execution_count": 9,
   "metadata": {},
   "outputs": [
    {
     "name": "stdout",
     "output_type": "stream",
     "text": [
      "(581012, 55)\n",
      "(406708, 55)\n",
      "(116783, 55)\n",
      "(57521, 55)\n"
     ]
    }
   ],
   "source": [
    "print(df.shape)\n",
    "print(train.shape)\n",
    "print(test.shape)\n",
    "print(dev.shape)"
   ]
  },
  {
   "cell_type": "code",
   "execution_count": 10,
   "metadata": {},
   "outputs": [
    {
     "data": {
      "text/html": [
       "<div>\n",
       "<style scoped>\n",
       "    .dataframe tbody tr th:only-of-type {\n",
       "        vertical-align: middle;\n",
       "    }\n",
       "\n",
       "    .dataframe tbody tr th {\n",
       "        vertical-align: top;\n",
       "    }\n",
       "\n",
       "    .dataframe thead th {\n",
       "        text-align: right;\n",
       "    }\n",
       "</style>\n",
       "<table border=\"1\" class=\"dataframe\">\n",
       "  <thead>\n",
       "    <tr style=\"text-align: right;\">\n",
       "      <th></th>\n",
       "      <th>Elevation</th>\n",
       "      <th>Aspect</th>\n",
       "      <th>Slope</th>\n",
       "      <th>Horizontal_Distance_To_Hydrology</th>\n",
       "      <th>Vertical_Distance_To_Hydrology</th>\n",
       "      <th>Horizontal_Distance_To_Roadways</th>\n",
       "      <th>Hillshade_9am</th>\n",
       "      <th>Hillshade_Noon</th>\n",
       "      <th>Hillshade_3pm</th>\n",
       "      <th>Horizontal_Distance_To_Fire_Points</th>\n",
       "      <th>...</th>\n",
       "      <th>Soil_Type32</th>\n",
       "      <th>Soil_Type33</th>\n",
       "      <th>Soil_Type34</th>\n",
       "      <th>Soil_Type35</th>\n",
       "      <th>Soil_Type36</th>\n",
       "      <th>Soil_Type37</th>\n",
       "      <th>Soil_Type38</th>\n",
       "      <th>Soil_Type39</th>\n",
       "      <th>Soil_Type40</th>\n",
       "      <th>Cover_Type</th>\n",
       "    </tr>\n",
       "  </thead>\n",
       "  <tbody>\n",
       "    <tr>\n",
       "      <th>0</th>\n",
       "      <td>2596</td>\n",
       "      <td>51</td>\n",
       "      <td>3</td>\n",
       "      <td>258</td>\n",
       "      <td>0</td>\n",
       "      <td>510</td>\n",
       "      <td>221</td>\n",
       "      <td>232</td>\n",
       "      <td>148</td>\n",
       "      <td>6279</td>\n",
       "      <td>...</td>\n",
       "      <td>0</td>\n",
       "      <td>0</td>\n",
       "      <td>0</td>\n",
       "      <td>0</td>\n",
       "      <td>0</td>\n",
       "      <td>0</td>\n",
       "      <td>0</td>\n",
       "      <td>0</td>\n",
       "      <td>0</td>\n",
       "      <td>4</td>\n",
       "    </tr>\n",
       "    <tr>\n",
       "      <th>2</th>\n",
       "      <td>2804</td>\n",
       "      <td>139</td>\n",
       "      <td>9</td>\n",
       "      <td>268</td>\n",
       "      <td>65</td>\n",
       "      <td>3180</td>\n",
       "      <td>234</td>\n",
       "      <td>238</td>\n",
       "      <td>135</td>\n",
       "      <td>6121</td>\n",
       "      <td>...</td>\n",
       "      <td>0</td>\n",
       "      <td>0</td>\n",
       "      <td>0</td>\n",
       "      <td>0</td>\n",
       "      <td>0</td>\n",
       "      <td>0</td>\n",
       "      <td>0</td>\n",
       "      <td>0</td>\n",
       "      <td>0</td>\n",
       "      <td>1</td>\n",
       "    </tr>\n",
       "    <tr>\n",
       "      <th>3</th>\n",
       "      <td>2785</td>\n",
       "      <td>155</td>\n",
       "      <td>18</td>\n",
       "      <td>242</td>\n",
       "      <td>118</td>\n",
       "      <td>3090</td>\n",
       "      <td>238</td>\n",
       "      <td>238</td>\n",
       "      <td>122</td>\n",
       "      <td>6211</td>\n",
       "      <td>...</td>\n",
       "      <td>0</td>\n",
       "      <td>0</td>\n",
       "      <td>0</td>\n",
       "      <td>0</td>\n",
       "      <td>0</td>\n",
       "      <td>0</td>\n",
       "      <td>0</td>\n",
       "      <td>0</td>\n",
       "      <td>0</td>\n",
       "      <td>1</td>\n",
       "    </tr>\n",
       "    <tr>\n",
       "      <th>5</th>\n",
       "      <td>2579</td>\n",
       "      <td>132</td>\n",
       "      <td>6</td>\n",
       "      <td>300</td>\n",
       "      <td>-15</td>\n",
       "      <td>67</td>\n",
       "      <td>230</td>\n",
       "      <td>237</td>\n",
       "      <td>140</td>\n",
       "      <td>6031</td>\n",
       "      <td>...</td>\n",
       "      <td>0</td>\n",
       "      <td>0</td>\n",
       "      <td>0</td>\n",
       "      <td>0</td>\n",
       "      <td>0</td>\n",
       "      <td>0</td>\n",
       "      <td>0</td>\n",
       "      <td>0</td>\n",
       "      <td>0</td>\n",
       "      <td>1</td>\n",
       "    </tr>\n",
       "    <tr>\n",
       "      <th>6</th>\n",
       "      <td>2606</td>\n",
       "      <td>45</td>\n",
       "      <td>7</td>\n",
       "      <td>270</td>\n",
       "      <td>5</td>\n",
       "      <td>633</td>\n",
       "      <td>222</td>\n",
       "      <td>225</td>\n",
       "      <td>138</td>\n",
       "      <td>6256</td>\n",
       "      <td>...</td>\n",
       "      <td>0</td>\n",
       "      <td>0</td>\n",
       "      <td>0</td>\n",
       "      <td>0</td>\n",
       "      <td>0</td>\n",
       "      <td>0</td>\n",
       "      <td>0</td>\n",
       "      <td>0</td>\n",
       "      <td>0</td>\n",
       "      <td>4</td>\n",
       "    </tr>\n",
       "    <tr>\n",
       "      <th>...</th>\n",
       "      <td>...</td>\n",
       "      <td>...</td>\n",
       "      <td>...</td>\n",
       "      <td>...</td>\n",
       "      <td>...</td>\n",
       "      <td>...</td>\n",
       "      <td>...</td>\n",
       "      <td>...</td>\n",
       "      <td>...</td>\n",
       "      <td>...</td>\n",
       "      <td>...</td>\n",
       "      <td>...</td>\n",
       "      <td>...</td>\n",
       "      <td>...</td>\n",
       "      <td>...</td>\n",
       "      <td>...</td>\n",
       "      <td>...</td>\n",
       "      <td>...</td>\n",
       "      <td>...</td>\n",
       "      <td>...</td>\n",
       "      <td>...</td>\n",
       "    </tr>\n",
       "    <tr>\n",
       "      <th>581006</th>\n",
       "      <td>2401</td>\n",
       "      <td>157</td>\n",
       "      <td>21</td>\n",
       "      <td>90</td>\n",
       "      <td>15</td>\n",
       "      <td>120</td>\n",
       "      <td>238</td>\n",
       "      <td>238</td>\n",
       "      <td>119</td>\n",
       "      <td>830</td>\n",
       "      <td>...</td>\n",
       "      <td>0</td>\n",
       "      <td>0</td>\n",
       "      <td>0</td>\n",
       "      <td>0</td>\n",
       "      <td>0</td>\n",
       "      <td>0</td>\n",
       "      <td>0</td>\n",
       "      <td>0</td>\n",
       "      <td>0</td>\n",
       "      <td>2</td>\n",
       "    </tr>\n",
       "    <tr>\n",
       "      <th>581007</th>\n",
       "      <td>2396</td>\n",
       "      <td>153</td>\n",
       "      <td>20</td>\n",
       "      <td>85</td>\n",
       "      <td>17</td>\n",
       "      <td>108</td>\n",
       "      <td>240</td>\n",
       "      <td>237</td>\n",
       "      <td>118</td>\n",
       "      <td>837</td>\n",
       "      <td>...</td>\n",
       "      <td>0</td>\n",
       "      <td>0</td>\n",
       "      <td>0</td>\n",
       "      <td>0</td>\n",
       "      <td>0</td>\n",
       "      <td>0</td>\n",
       "      <td>0</td>\n",
       "      <td>0</td>\n",
       "      <td>0</td>\n",
       "      <td>2</td>\n",
       "    </tr>\n",
       "    <tr>\n",
       "      <th>581009</th>\n",
       "      <td>2386</td>\n",
       "      <td>159</td>\n",
       "      <td>17</td>\n",
       "      <td>60</td>\n",
       "      <td>7</td>\n",
       "      <td>90</td>\n",
       "      <td>236</td>\n",
       "      <td>241</td>\n",
       "      <td>130</td>\n",
       "      <td>854</td>\n",
       "      <td>...</td>\n",
       "      <td>0</td>\n",
       "      <td>0</td>\n",
       "      <td>0</td>\n",
       "      <td>0</td>\n",
       "      <td>0</td>\n",
       "      <td>0</td>\n",
       "      <td>0</td>\n",
       "      <td>0</td>\n",
       "      <td>0</td>\n",
       "      <td>2</td>\n",
       "    </tr>\n",
       "    <tr>\n",
       "      <th>581010</th>\n",
       "      <td>2384</td>\n",
       "      <td>170</td>\n",
       "      <td>15</td>\n",
       "      <td>60</td>\n",
       "      <td>5</td>\n",
       "      <td>90</td>\n",
       "      <td>230</td>\n",
       "      <td>245</td>\n",
       "      <td>143</td>\n",
       "      <td>864</td>\n",
       "      <td>...</td>\n",
       "      <td>0</td>\n",
       "      <td>0</td>\n",
       "      <td>0</td>\n",
       "      <td>0</td>\n",
       "      <td>0</td>\n",
       "      <td>0</td>\n",
       "      <td>0</td>\n",
       "      <td>0</td>\n",
       "      <td>0</td>\n",
       "      <td>2</td>\n",
       "    </tr>\n",
       "    <tr>\n",
       "      <th>581011</th>\n",
       "      <td>2383</td>\n",
       "      <td>165</td>\n",
       "      <td>13</td>\n",
       "      <td>60</td>\n",
       "      <td>4</td>\n",
       "      <td>67</td>\n",
       "      <td>231</td>\n",
       "      <td>244</td>\n",
       "      <td>141</td>\n",
       "      <td>875</td>\n",
       "      <td>...</td>\n",
       "      <td>0</td>\n",
       "      <td>0</td>\n",
       "      <td>0</td>\n",
       "      <td>0</td>\n",
       "      <td>0</td>\n",
       "      <td>0</td>\n",
       "      <td>0</td>\n",
       "      <td>0</td>\n",
       "      <td>0</td>\n",
       "      <td>2</td>\n",
       "    </tr>\n",
       "  </tbody>\n",
       "</table>\n",
       "<p>406708 rows × 55 columns</p>\n",
       "</div>"
      ],
      "text/plain": [
       "        Elevation  Aspect  Slope  Horizontal_Distance_To_Hydrology  \\\n",
       "0            2596      51      3                               258   \n",
       "2            2804     139      9                               268   \n",
       "3            2785     155     18                               242   \n",
       "5            2579     132      6                               300   \n",
       "6            2606      45      7                               270   \n",
       "...           ...     ...    ...                               ...   \n",
       "581006       2401     157     21                                90   \n",
       "581007       2396     153     20                                85   \n",
       "581009       2386     159     17                                60   \n",
       "581010       2384     170     15                                60   \n",
       "581011       2383     165     13                                60   \n",
       "\n",
       "        Vertical_Distance_To_Hydrology  Horizontal_Distance_To_Roadways  \\\n",
       "0                                    0                              510   \n",
       "2                                   65                             3180   \n",
       "3                                  118                             3090   \n",
       "5                                  -15                               67   \n",
       "6                                    5                              633   \n",
       "...                                ...                              ...   \n",
       "581006                              15                              120   \n",
       "581007                              17                              108   \n",
       "581009                               7                               90   \n",
       "581010                               5                               90   \n",
       "581011                               4                               67   \n",
       "\n",
       "        Hillshade_9am  Hillshade_Noon  Hillshade_3pm  \\\n",
       "0                 221             232            148   \n",
       "2                 234             238            135   \n",
       "3                 238             238            122   \n",
       "5                 230             237            140   \n",
       "6                 222             225            138   \n",
       "...               ...             ...            ...   \n",
       "581006            238             238            119   \n",
       "581007            240             237            118   \n",
       "581009            236             241            130   \n",
       "581010            230             245            143   \n",
       "581011            231             244            141   \n",
       "\n",
       "        Horizontal_Distance_To_Fire_Points  ...  Soil_Type32  Soil_Type33  \\\n",
       "0                                     6279  ...            0            0   \n",
       "2                                     6121  ...            0            0   \n",
       "3                                     6211  ...            0            0   \n",
       "5                                     6031  ...            0            0   \n",
       "6                                     6256  ...            0            0   \n",
       "...                                    ...  ...          ...          ...   \n",
       "581006                                 830  ...            0            0   \n",
       "581007                                 837  ...            0            0   \n",
       "581009                                 854  ...            0            0   \n",
       "581010                                 864  ...            0            0   \n",
       "581011                                 875  ...            0            0   \n",
       "\n",
       "        Soil_Type34  Soil_Type35  Soil_Type36  Soil_Type37  Soil_Type38  \\\n",
       "0                 0            0            0            0            0   \n",
       "2                 0            0            0            0            0   \n",
       "3                 0            0            0            0            0   \n",
       "5                 0            0            0            0            0   \n",
       "6                 0            0            0            0            0   \n",
       "...             ...          ...          ...          ...          ...   \n",
       "581006            0            0            0            0            0   \n",
       "581007            0            0            0            0            0   \n",
       "581009            0            0            0            0            0   \n",
       "581010            0            0            0            0            0   \n",
       "581011            0            0            0            0            0   \n",
       "\n",
       "        Soil_Type39  Soil_Type40  Cover_Type  \n",
       "0                 0            0           4  \n",
       "2                 0            0           1  \n",
       "3                 0            0           1  \n",
       "5                 0            0           1  \n",
       "6                 0            0           4  \n",
       "...             ...          ...         ...  \n",
       "581006            0            0           2  \n",
       "581007            0            0           2  \n",
       "581009            0            0           2  \n",
       "581010            0            0           2  \n",
       "581011            0            0           2  \n",
       "\n",
       "[406708 rows x 55 columns]"
      ]
     },
     "execution_count": 10,
     "metadata": {},
     "output_type": "execute_result"
    }
   ],
   "source": [
    "train.sort_index()"
   ]
  },
  {
   "cell_type": "code",
   "execution_count": 11,
   "metadata": {},
   "outputs": [
    {
     "data": {
      "text/plain": [
       "<AxesSubplot:xlabel='Cover_Type', ylabel='count'>"
      ]
     },
     "execution_count": 11,
     "metadata": {},
     "output_type": "execute_result"
    },
    {
     "data": {
      "image/png": "[encoded data removed]",
      "text/plain": [
       "<Figure size 432x288 with 1 Axes>"
      ]
     },
     "metadata": {
      "needs_background": "light"
     },
     "output_type": "display_data"
    }
   ],
   "source": [
    "sns.countplot(x = 'Cover_Type', data=df)"
   ]
  },
  {
   "cell_type": "code",
   "execution_count": 12,
   "metadata": {},
   "outputs": [],
   "source": [
    "# split out labels\n",
    "# train dataset\n",
    "x_train = train.drop(columns='Cover_Type')\n",
    "y_train = torch.tensor(train['Cover_Type'].values)\n",
    "\n",
    "# dev dataset\n",
    "x_dev = dev.drop(columns='Cover_Type')\n",
    "y_dev = torch.tensor(dev['Cover_Type'].values)\n",
    "\n",
    "# test dataset\n",
    "x_test = test.drop(columns='Cover_Type')\n",
    "y_test = torch.tensor(test['Cover_Type'].values)"
   ]
  },
  {
   "cell_type": "code",
   "execution_count": 13,
   "metadata": {},
   "outputs": [
    {
     "data": {
      "text/plain": [
       "tensor([2, 2, 1,  ..., 1, 1, 1])"
      ]
     },
     "execution_count": 13,
     "metadata": {},
     "output_type": "execute_result"
    }
   ],
   "source": [
    "y_test"
   ]
  },
  {
   "cell_type": "code",
   "execution_count": 14,
   "metadata": {},
   "outputs": [],
   "source": [
    "# scale features\n",
    "x_train_scaled = torch.tensor(preprocessing.scale(x_train)).float()\n",
    "x_dev_scaled = torch.tensor(preprocessing.scale(x_dev)).float()\n",
    "x_test_scaled = torch.tensor(preprocessing.scale(x_test)).float()"
   ]
  },
  {
   "cell_type": "code",
   "execution_count": 15,
   "metadata": {},
   "outputs": [
    {
     "data": {
      "text/plain": [
       "tensor([[-1.7398, -1.2300, -0.0121,  ..., -0.1659, -0.1569, -0.1250],\n",
       "        [-2.8214,  1.5928,  2.5222,  ..., -0.1659, -0.1569, -0.1250],\n",
       "        [-1.0629, -0.3635,  0.5214,  ..., -0.1659, -0.1569, -0.1250],\n",
       "        ...,\n",
       "        [-0.9734, -0.5154,  0.3880,  ..., -0.1659, -0.1569, -0.1250],\n",
       "        [-1.2778, -0.5601, -0.6791,  ..., -0.1659, -0.1569, -0.1250],\n",
       "        [ 0.1978,  0.0206,  1.1883,  ..., -0.1659, -0.1569, -0.1250]])"
      ]
     },
     "execution_count": 15,
     "metadata": {},
     "output_type": "execute_result"
    }
   ],
   "source": [
    "x_test_scaled"
   ]
  },
  {
   "cell_type": "markdown",
   "metadata": {},
   "source": [
    "##### TODO: \n",
    "- Normalize the data\n",
    "- Feature Selection and/or feature engineering\n",
    "    - Possibly reverse one-hot-encode soil features"
   ]
  },
  {
   "cell_type": "markdown",
   "metadata": {},
   "source": [
    "### BUILD MODEL\n",
    "<hr>"
   ]
  },
  {
   "cell_type": "code",
   "execution_count": 16,
   "metadata": {},
   "outputs": [],
   "source": [
    "class MLP(nn.Module):\n",
    "\n",
    "    def __init__(self):\n",
    "        super(MLP, self).__init__()\n",
    "        self.layers = nn.Sequential(\n",
    "            nn.Linear(54, 2048), \n",
    "            nn.ReLU(),\n",
    "            nn.Linear(2048, 1024),\n",
    "            nn.ReLU(),\n",
    "            nn.Linear(1024, 512), \n",
    "            nn.ReLU(),\n",
    "            nn.Linear(512, 7)\n",
    "        )\n",
    "#         self.activation = nn.Sigmoid()\n",
    "        self.activation = nn.Softmax()\n",
    "\n",
    "    def forward(self, x):\n",
    "        output = self.layers(x)\n",
    "#         output = self.activation(x) \n",
    "        return output\n",
    "        \n",
    "ForestMLP = MLP()"
   ]
  },
  {
   "cell_type": "markdown",
   "metadata": {},
   "source": [
    "#### Set Model Parameters"
   ]
  },
  {
   "cell_type": "code",
   "execution_count": 17,
   "metadata": {},
   "outputs": [],
   "source": [
    "from timm.scheduler.cosine_lr import CosineLRScheduler\n",
    "\n",
    "epochs = 20\n",
    "warmup_epochs = 5\n",
    "# n_steps = len(trnloader)\n",
    "# targets = valloader\n",
    "LR = 0.1\n",
    "MOMENTUM = 0.9\n",
    "WEIGHT_DECAY = 1e-4\n",
    "PRINT_FREQ = 50\n",
    "TRAIN_BATCH=128\n",
    "VAL_BATCH=128\n",
    "\n",
    "optimizer = torch.optim.SGD(ForestMLP.parameters(), LR,\n",
    "                                momentum=MOMENTUM,\n",
    "                                weight_decay=WEIGHT_DECAY)\n",
    "# optimizer = torch.optim.Adam(my_model.parameters(), lr=1e-2)\n",
    "\n",
    "# decay = torch.optim.lr_scheduler.ExponentialLR(optimizer, gamma=0.9)\n",
    "\n",
    "criterion = nn.CrossEntropyLoss()\n",
    "# criterion = nn.BCELoss()\n",
    "\n",
    "scheduler = CosineLRScheduler(\n",
    "            optimizer,\n",
    "            t_initial= epochs, # The initial number of epochs.\n",
    "            lr_min=0.001, # The minimum learning rate to use during the scheduling\n",
    "            warmup_lr_init=0.0001, # The initial learning rate during warmup.\n",
    "            warmup_t= warmup_epochs) # Defines the number of warmup epochs."
   ]
  },
  {
   "cell_type": "code",
   "execution_count": 18,
   "metadata": {},
   "outputs": [],
   "source": [
    "def multi_acc(y_pred, y_test):\n",
    "    y_pred_softmax = torch.log_softmax(y_pred, dim = 1)\n",
    "    _, y_pred_tags = torch.max(y_pred_softmax, dim = 1)    \n",
    "    \n",
    "    correct_pred = (y_pred_tags == y_test).float()\n",
    "    acc = correct_pred.sum() / len(correct_pred)\n",
    "    \n",
    "    acc = torch.round(acc * 100)\n",
    "    \n",
    "    return acc"
   ]
  },
  {
   "cell_type": "markdown",
   "metadata": {},
   "source": [
    "#### Train Model"
   ]
  },
  {
   "cell_type": "code",
   "execution_count": 19,
   "metadata": {},
   "outputs": [
    {
     "name": "stdout",
     "output_type": "stream",
     "text": [
      "Epoch 0 train loss: [1.951875925064087]\n",
      "Epoch 0 valid loss: [1.951923131942749]\n",
      "Epoch 0 valid loss: [1.951923131942749]\n",
      "[tensor([[ 0.0278, -0.0041,  0.0159,  ...,  0.0377,  0.0437, -0.0159],\n",
      "        [ 0.0263,  0.0068, -0.0296,  ...,  0.0538,  0.0497, -0.0468],\n",
      "        [ 0.0160, -0.0095,  0.0087,  ...,  0.0347,  0.0604, -0.0006],\n",
      "        ...,\n",
      "        [ 0.0392, -0.0099, -0.0110,  ...,  0.0187,  0.0494, -0.0258],\n",
      "        [ 0.0430, -0.0036, -0.0216,  ...,  0.0503,  0.0763,  0.0065],\n",
      "        [ 0.0274, -0.0197, -0.0267,  ...,  0.0357,  0.0483, -0.0354]])]\n",
      "Epoch 1 train loss: [1.9517827033996582]\n",
      "Epoch 1 valid loss: [1.951745867729187]\n",
      "Epoch 1 valid loss: [1.951745867729187]\n",
      "[tensor([[ 0.0279, -0.0039,  0.0158,  ...,  0.0377,  0.0437, -0.0160],\n",
      "        [ 0.0264,  0.0071, -0.0297,  ...,  0.0537,  0.0496, -0.0469],\n",
      "        [ 0.0162, -0.0092,  0.0087,  ...,  0.0346,  0.0603, -0.0006],\n",
      "        ...,\n",
      "        [ 0.0393, -0.0097, -0.0111,  ...,  0.0186,  0.0493, -0.0258],\n",
      "        [ 0.0432, -0.0033, -0.0217,  ...,  0.0502,  0.0762,  0.0064],\n",
      "        [ 0.0276, -0.0194, -0.0268,  ...,  0.0356,  0.0483, -0.0355]])]\n",
      "Epoch 2 train loss: [1.951605200767517]\n",
      "Epoch 2 valid loss: [1.9514930248260498]\n",
      "Epoch 2 valid loss: [1.9514930248260498]\n",
      "[tensor([[ 0.0280, -0.0036,  0.0157,  ...,  0.0376,  0.0436, -0.0160],\n",
      "        [ 0.0266,  0.0074, -0.0298,  ...,  0.0536,  0.0495, -0.0470],\n",
      "        [ 0.0164, -0.0089,  0.0086,  ...,  0.0345,  0.0602, -0.0007],\n",
      "        ...,\n",
      "        [ 0.0395, -0.0093, -0.0112,  ...,  0.0185,  0.0492, -0.0259],\n",
      "        [ 0.0434, -0.0030, -0.0218,  ...,  0.0501,  0.0761,  0.0063],\n",
      "        [ 0.0278, -0.0190, -0.0269,  ...,  0.0355,  0.0481, -0.0356]])]\n",
      "Epoch 3 train loss: [1.951352596282959]\n",
      "Epoch 3 valid loss: [1.9511722326278687]\n",
      "Epoch 3 valid loss: [1.9511722326278687]\n",
      "[tensor([[ 0.0282, -0.0032,  0.0156,  ...,  0.0374,  0.0435, -0.0161],\n",
      "        [ 0.0269,  0.0079, -0.0299,  ...,  0.0535,  0.0494, -0.0471],\n",
      "        [ 0.0166, -0.0085,  0.0085,  ...,  0.0343,  0.0601, -0.0008],\n",
      "        ...,\n",
      "        [ 0.0397, -0.0089, -0.0113,  ...,  0.0183,  0.0491, -0.0261],\n",
      "        [ 0.0437, -0.0025, -0.0219,  ...,  0.0499,  0.0760,  0.0062],\n",
      "        [ 0.0281, -0.0185, -0.0270,  ...,  0.0353,  0.0480, -0.0358]])]\n",
      "Epoch 4 train loss: [1.9510315656661987]\n",
      "Epoch 4 valid loss: [1.950790524482727]\n",
      "Epoch 4 valid loss: [1.950790524482727]\n",
      "[tensor([[ 0.0285, -0.0028,  0.0155,  ...,  0.0373,  0.0433, -0.0163],\n",
      "        [ 0.0271,  0.0084, -0.0301,  ...,  0.0533,  0.0492, -0.0473],\n",
      "        [ 0.0169, -0.0079,  0.0083,  ...,  0.0341,  0.0600, -0.0010],\n",
      "        ...,\n",
      "        [ 0.0400, -0.0083, -0.0114,  ...,  0.0181,  0.0489, -0.0262],\n",
      "        [ 0.0440, -0.0020, -0.0221,  ...,  0.0498,  0.0758,  0.0060],\n",
      "        [ 0.0284, -0.0179, -0.0271,  ...,  0.0351,  0.0478, -0.0359]])]\n",
      "Epoch 5 train loss: [1.9506494998931885]\n",
      "Epoch 5 valid loss: [1.950353741645813]\n",
      "Epoch 5 valid loss: [1.950353741645813]\n",
      "[tensor([[ 0.0288, -0.0023,  0.0154,  ...,  0.0371,  0.0432, -0.0164],\n",
      "        [ 0.0275,  0.0090, -0.0302,  ...,  0.0531,  0.0491, -0.0475],\n",
      "        [ 0.0172, -0.0073,  0.0082,  ...,  0.0339,  0.0598, -0.0011],\n",
      "        ...,\n",
      "        [ 0.0404, -0.0077, -0.0115,  ...,  0.0179,  0.0487, -0.0264],\n",
      "        [ 0.0444, -0.0014, -0.0222,  ...,  0.0495,  0.0756,  0.0059],\n",
      "        [ 0.0287, -0.0172, -0.0273,  ...,  0.0349,  0.0476, -0.0361]])]\n",
      "Epoch 6 train loss: [1.9502122402191162]\n",
      "Epoch 6 valid loss: [1.9498674869537354]\n",
      "Epoch 6 valid loss: [1.9498674869537354]\n",
      "[tensor([[ 0.0291, -0.0017,  0.0153,  ...,  0.0369,  0.0430, -0.0166],\n",
      "        [ 0.0278,  0.0096, -0.0304,  ...,  0.0529,  0.0489, -0.0477],\n",
      "        [ 0.0176, -0.0067,  0.0080,  ...,  0.0337,  0.0596, -0.0013],\n",
      "        ...,\n",
      "        [ 0.0407, -0.0071, -0.0116,  ...,  0.0177,  0.0485, -0.0266],\n",
      "        [ 0.0448, -0.0007, -0.0224,  ...,  0.0493,  0.0754,  0.0057],\n",
      "        [ 0.0291, -0.0164, -0.0275,  ...,  0.0346,  0.0474, -0.0363]])]\n",
      "Epoch 7 train loss: [1.949725866317749]\n",
      "Epoch 7 valid loss: [1.9493370056152344]\n",
      "Epoch 7 valid loss: [1.9493370056152344]\n",
      "[tensor([[ 2.9395e-02, -1.0565e-03,  1.5101e-02,  ...,  3.6724e-02,\n",
      "          4.2863e-02, -1.6733e-02],\n",
      "        [ 2.8226e-02,  1.0374e-02, -3.0618e-02,  ...,  5.2719e-02,\n",
      "          4.8665e-02, -4.7959e-02],\n",
      "        [ 1.7996e-02, -5.9716e-03,  7.8533e-03,  ...,  3.3435e-02,\n",
      "          5.9424e-02, -1.4817e-03],\n",
      "        ...,\n",
      "        [ 4.1121e-02, -6.3311e-03, -1.1792e-02,  ...,  1.7454e-02,\n",
      "          4.8324e-02, -2.6822e-02],\n",
      "        [ 4.5221e-02,  8.8029e-06, -2.2647e-02,  ...,  4.9015e-02,\n",
      "          7.5183e-02,  5.4512e-03],\n",
      "        [ 2.9547e-02, -1.5579e-02, -2.7664e-02,  ...,  3.4339e-02,\n",
      "          4.7166e-02, -3.6522e-02]])]\n",
      "Epoch 8 train loss: [1.9491950273513794]\n",
      "Epoch 8 valid loss: [1.948766827583313]\n",
      "Epoch 8 valid loss: [1.948766827583313]\n",
      "[tensor([[ 0.0298, -0.0004,  0.0149,  ...,  0.0365,  0.0427, -0.0169],\n",
      "        [ 0.0287,  0.0112, -0.0308,  ...,  0.0525,  0.0484, -0.0482],\n",
      "        [ 0.0184, -0.0052,  0.0077,  ...,  0.0332,  0.0592, -0.0017],\n",
      "        ...,\n",
      "        [ 0.0416, -0.0055, -0.0120,  ...,  0.0172,  0.0481, -0.0271],\n",
      "        [ 0.0457,  0.0008, -0.0229,  ...,  0.0487,  0.0749,  0.0052],\n",
      "        [ 0.0300, -0.0147, -0.0279,  ...,  0.0340,  0.0469, -0.0368]])]\n",
      "Epoch 9 train loss: [1.9486244916915894]\n",
      "Epoch 9 valid loss: [1.9481604099273682]\n",
      "Epoch 9 valid loss: [1.9481604099273682]\n",
      "[tensor([[ 0.0301,  0.0003,  0.0148,  ...,  0.0363,  0.0425, -0.0171],\n",
      "        [ 0.0291,  0.0120, -0.0311,  ...,  0.0522,  0.0482, -0.0485],\n",
      "        [ 0.0189, -0.0044,  0.0075,  ...,  0.0329,  0.0590, -0.0019],\n",
      "        ...,\n",
      "        [ 0.0420, -0.0047, -0.0121,  ...,  0.0169,  0.0478, -0.0273],\n",
      "        [ 0.0462,  0.0017, -0.0231,  ...,  0.0484,  0.0747,  0.0050],\n",
      "        [ 0.0305, -0.0137, -0.0281,  ...,  0.0337,  0.0466, -0.0370]])]\n",
      "Epoch 10 train loss: [1.948017954826355]\n",
      "Epoch 10 valid loss: [1.9475222826004028]\n",
      "Epoch 10 valid loss: [1.9475222826004028]\n",
      "[tensor([[ 0.0305,  0.0011,  0.0146,  ...,  0.0360,  0.0423, -0.0173],\n",
      "        [ 0.0296,  0.0129, -0.0313,  ...,  0.0520,  0.0479, -0.0488],\n",
      "        [ 0.0194, -0.0035,  0.0072,  ...,  0.0326,  0.0587, -0.0021],\n",
      "        ...,\n",
      "        [ 0.0425, -0.0038, -0.0123,  ...,  0.0166,  0.0476, -0.0276],\n",
      "        [ 0.0468,  0.0025, -0.0234,  ...,  0.0481,  0.0744,  0.0047],\n",
      "        [ 0.0310, -0.0127, -0.0284,  ...,  0.0334,  0.0463, -0.0373]])]\n",
      "Epoch 11 train loss: [1.947379469871521]\n",
      "Epoch 11 valid loss: [1.9468549489974976]\n",
      "Epoch 11 valid loss: [1.9468549489974976]\n",
      "[tensor([[ 0.0310,  0.0019,  0.0144,  ...,  0.0358,  0.0420, -0.0175],\n",
      "        [ 0.0301,  0.0138, -0.0316,  ...,  0.0517,  0.0477, -0.0491],\n",
      "        [ 0.0199, -0.0026,  0.0070,  ...,  0.0322,  0.0585, -0.0024],\n",
      "        ...,\n",
      "        [ 0.0430, -0.0029, -0.0125,  ...,  0.0163,  0.0473, -0.0278],\n",
      "        [ 0.0473,  0.0035, -0.0237,  ...,  0.0477,  0.0741,  0.0044],\n",
      "        [ 0.0316, -0.0116, -0.0286,  ...,  0.0330,  0.0460, -0.0376]])]\n",
      "Epoch 12 train loss: [1.9467120170593262]\n",
      "Epoch 12 valid loss: [1.9461623430252075]\n",
      "Epoch 12 valid loss: [1.9461623430252075]\n",
      "[tensor([[ 0.0314,  0.0027,  0.0142,  ...,  0.0355,  0.0418, -0.0178],\n",
      "        [ 0.0306,  0.0147, -0.0318,  ...,  0.0514,  0.0474, -0.0494],\n",
      "        [ 0.0204, -0.0017,  0.0068,  ...,  0.0319,  0.0582, -0.0026],\n",
      "        ...,\n",
      "        [ 0.0435, -0.0020, -0.0127,  ...,  0.0160,  0.0470, -0.0281],\n",
      "        [ 0.0479,  0.0044, -0.0239,  ...,  0.0474,  0.0738,  0.0041],\n",
      "        [ 0.0321, -0.0105, -0.0289,  ...,  0.0327,  0.0457, -0.0378]])]\n",
      "Epoch 13 train loss: [1.9460188150405884]\n",
      "Epoch 13 valid loss: [1.9454460144042969]\n",
      "Epoch 13 valid loss: [1.9454460144042969]\n",
      "[tensor([[ 0.0319,  0.0035,  0.0139,  ...,  0.0352,  0.0416, -0.0180],\n",
      "        [ 0.0311,  0.0157, -0.0321,  ...,  0.0511,  0.0471, -0.0497],\n",
      "        [ 0.0210, -0.0007,  0.0065,  ...,  0.0316,  0.0580, -0.0029],\n",
      "        ...,\n",
      "        [ 0.0441, -0.0010, -0.0129,  ...,  0.0156,  0.0468, -0.0284],\n",
      "        [ 0.0486,  0.0054, -0.0242,  ...,  0.0470,  0.0735,  0.0039],\n",
      "        [ 0.0327, -0.0093, -0.0291,  ...,  0.0323,  0.0454, -0.0381]])]\n",
      "Epoch 14 train loss: [1.9453022480010986]\n",
      "Epoch 14 valid loss: [1.9447091817855835]\n",
      "Epoch 14 valid loss: [1.9447091817855835]\n",
      "[tensor([[ 3.2317e-02,  4.3905e-03,  1.3729e-02,  ...,  3.4934e-02,\n",
      "          4.1343e-02, -1.8247e-02],\n",
      "        [ 3.1691e-02,  1.6703e-02, -3.2370e-02,  ...,  5.0835e-02,\n",
      "          4.6837e-02, -5.0028e-02],\n",
      "        [ 2.1556e-02,  3.1862e-04,  6.2636e-03,  ...,  3.1211e-02,\n",
      "          5.7696e-02, -3.1449e-03],\n",
      "        ...,\n",
      "        [ 4.4626e-02,  5.3495e-05, -1.3140e-02,  ...,  1.5308e-02,\n",
      "          4.6458e-02, -2.8709e-02],\n",
      "        [ 4.9187e-02,  6.4844e-03, -2.4527e-02,  ...,  4.6654e-02,\n",
      "          7.3153e-02,  3.5511e-03],\n",
      "        [ 3.3303e-02, -8.1541e-03, -2.9426e-02,  ...,  3.1924e-02,\n",
      "          4.5061e-02, -3.8439e-02]])]\n"
     ]
    },
    {
     "name": "stdout",
     "output_type": "stream",
     "text": [
      "Epoch 15 train loss: [1.944564938545227]\n",
      "Epoch 15 valid loss: [1.9439538717269897]\n",
      "Epoch 15 valid loss: [1.9439538717269897]\n",
      "[tensor([[ 0.0328,  0.0053,  0.0135,  ...,  0.0346,  0.0411, -0.0185],\n",
      "        [ 0.0323,  0.0177, -0.0327,  ...,  0.0505,  0.0465, -0.0504],\n",
      "        [ 0.0221,  0.0013,  0.0060,  ...,  0.0308,  0.0574, -0.0034],\n",
      "        ...,\n",
      "        [ 0.0452,  0.0011, -0.0134,  ...,  0.0150,  0.0462, -0.0290],\n",
      "        [ 0.0498,  0.0075, -0.0248,  ...,  0.0463,  0.0728,  0.0032],\n",
      "        [ 0.0339, -0.0069, -0.0297,  ...,  0.0315,  0.0447, -0.0388]])]\n",
      "Epoch 16 train loss: [1.943808913230896]\n",
      "Epoch 16 valid loss: [1.9431816339492798]\n",
      "Epoch 16 valid loss: [1.9431816339492798]\n",
      "[tensor([[ 0.0333,  0.0062,  0.0133,  ...,  0.0343,  0.0408, -0.0187],\n",
      "        [ 0.0328,  0.0188, -0.0330,  ...,  0.0502,  0.0462, -0.0507],\n",
      "        [ 0.0227,  0.0024,  0.0057,  ...,  0.0305,  0.0571, -0.0037],\n",
      "        ...,\n",
      "        [ 0.0458,  0.0021, -0.0136,  ...,  0.0146,  0.0458, -0.0293],\n",
      "        [ 0.0505,  0.0086, -0.0252,  ...,  0.0459,  0.0725,  0.0029],\n",
      "        [ 0.0345, -0.0057, -0.0300,  ...,  0.0311,  0.0444, -0.0391]])]\n",
      "Epoch 17 train loss: [1.9430363178253174]\n",
      "Epoch 17 valid loss: [1.942394495010376]\n",
      "Epoch 17 valid loss: [1.942394495010376]\n",
      "[tensor([[ 0.0338,  0.0071,  0.0130,  ...,  0.0340,  0.0406, -0.0190],\n",
      "        [ 0.0334,  0.0199, -0.0332,  ...,  0.0499,  0.0459, -0.0511],\n",
      "        [ 0.0233,  0.0035,  0.0055,  ...,  0.0301,  0.0568, -0.0040],\n",
      "        ...,\n",
      "        [ 0.0464,  0.0032, -0.0138,  ...,  0.0143,  0.0455, -0.0297],\n",
      "        [ 0.0512,  0.0097, -0.0255,  ...,  0.0455,  0.0721,  0.0026],\n",
      "        [ 0.0352, -0.0044, -0.0303,  ...,  0.0307,  0.0440, -0.0394]])]\n",
      "Epoch 18 train loss: [1.942248821258545]\n",
      "Epoch 18 valid loss: [1.9415940046310425]\n",
      "Epoch 18 valid loss: [1.9415940046310425]\n",
      "[tensor([[ 0.0343,  0.0081,  0.0128,  ...,  0.0337,  0.0403, -0.0193],\n",
      "        [ 0.0340,  0.0210, -0.0336,  ...,  0.0496,  0.0456, -0.0514],\n",
      "        [ 0.0240,  0.0046,  0.0052,  ...,  0.0297,  0.0565, -0.0043],\n",
      "        ...,\n",
      "        [ 0.0470,  0.0043, -0.0141,  ...,  0.0139,  0.0452, -0.0300],\n",
      "        [ 0.0519,  0.0109, -0.0258,  ...,  0.0451,  0.0718,  0.0023],\n",
      "        [ 0.0358, -0.0032, -0.0306,  ...,  0.0303,  0.0436, -0.0397]])]\n",
      "Epoch 19 train loss: [1.9414477348327637]\n",
      "Epoch 19 valid loss: [1.9407817125320435]\n",
      "Epoch 19 valid loss: [1.9407817125320435]\n",
      "[tensor([[ 0.0348,  0.0090,  0.0126,  ...,  0.0334,  0.0401, -0.0195],\n",
      "        [ 0.0346,  0.0221, -0.0339,  ...,  0.0492,  0.0453, -0.0518],\n",
      "        [ 0.0246,  0.0057,  0.0049,  ...,  0.0293,  0.0562, -0.0046],\n",
      "        ...,\n",
      "        [ 0.0476,  0.0054, -0.0143,  ...,  0.0135,  0.0449, -0.0303],\n",
      "        [ 0.0526,  0.0120, -0.0261,  ...,  0.0447,  0.0714,  0.0019],\n",
      "        [ 0.0365, -0.0018, -0.0309,  ...,  0.0299,  0.0433, -0.0401]])]\n"
     ]
    }
   ],
   "source": [
    "for epoch in range(epochs):\n",
    "    train_loss = []\n",
    "    ForestMLP.train()\n",
    "    optimizer.zero_grad() # Zero gradients each step \n",
    "\n",
    "    # Run through the model, get the loss and make a gradient descent step\n",
    "    out = ForestMLP(x_train_scaled)\n",
    "    loss = criterion(out, y_train)\n",
    "    train_acc = multi_acc(out, y_train)\n",
    "    \n",
    "    # backward pass\n",
    "    loss.backward()\n",
    "    optimizer.step()\n",
    "    train_loss.append(loss.item())\n",
    "    print(f'Epoch {epoch} train loss: {train_loss}')\n",
    "\n",
    "    # Validation step\n",
    "    val_loss = []\n",
    "    val_pred = []\n",
    "    with torch.no_grad():\n",
    "        ForestMLP.eval()\n",
    "\n",
    "        out = ForestMLP(x_dev_scaled)\n",
    "        loss = criterion(out, y_dev)\n",
    "        val_loss.append(loss.item())\n",
    "        print(f'Epoch {epoch} valid loss: {val_loss}')\n",
    "    print(f'Epoch {epoch} valid loss: {val_loss}')\n",
    "    val_pred.append(out)\n",
    "    print(val_pred)\n",
    "#     correct = (y_dev.values == val_pred).float().sum()\n",
    "#     print(f'Valid accuracy {(correct/x_dev_scaled.shape[0]):.4f}')\n",
    "\n",
    "# DataLoader(dataset, batch_size=1, shuffle=False, sampler=None,\n",
    "#            batch_sampler=None, num_workers=0, collate_fn=None,\n",
    "#            pin_memory=False, drop_last=False, timeout=0,\n",
    "#            worker_init_fn=None, *, prefetch_factor=2,\n",
    "#            persistent_workers=False)\n"
   ]
  },
  {
   "cell_type": "code",
   "execution_count": 20,
   "metadata": {
    "colab": {
     "base_uri": "https://localhost:8080/"
    },
    "id": "pypdNJx1LPf2",
    "outputId": "92be8805-86cd-43cf-b744-d04151ced672"
   },
   "outputs": [
    {
     "ename": "NameError",
     "evalue": "name 'predict_data' is not defined",
     "output_type": "error",
     "traceback": [
      "\u001b[1;31m---------------------------------------------------------------------------\u001b[0m",
      "\u001b[1;31mNameError\u001b[0m                                 Traceback (most recent call last)",
      "\u001b[1;32m~\\AppData\\Local\\Temp/ipykernel_7028/1027964131.py\u001b[0m in \u001b[0;36m<module>\u001b[1;34m\u001b[0m\n\u001b[0;32m      1\u001b[0m \u001b[1;31m#Check for Null Values in test DataSet\u001b[0m\u001b[1;33m\u001b[0m\u001b[1;33m\u001b[0m\u001b[1;33m\u001b[0m\u001b[0m\n\u001b[1;32m----> 2\u001b[1;33m \u001b[0mprint\u001b[0m\u001b[1;33m(\u001b[0m\u001b[1;34m\"Number of Null Values in test Dataset:\"\u001b[0m\u001b[1;33m,\u001b[0m \u001b[1;33m(\u001b[0m\u001b[0mpredict_data\u001b[0m\u001b[1;33m.\u001b[0m\u001b[0misnull\u001b[0m\u001b[1;33m(\u001b[0m\u001b[1;33m)\u001b[0m\u001b[1;33m==\u001b[0m\u001b[1;32mTrue\u001b[0m\u001b[1;33m)\u001b[0m\u001b[1;33m.\u001b[0m\u001b[0msum\u001b[0m\u001b[1;33m(\u001b[0m\u001b[1;33m)\u001b[0m\u001b[1;33m.\u001b[0m\u001b[0msum\u001b[0m\u001b[1;33m(\u001b[0m\u001b[1;33m)\u001b[0m\u001b[1;33m)\u001b[0m\u001b[1;33m\u001b[0m\u001b[1;33m\u001b[0m\u001b[0m\n\u001b[0m",
      "\u001b[1;31mNameError\u001b[0m: name 'predict_data' is not defined"
     ]
    }
   ],
   "source": [
    "#Check for Null Values in test DataSet\n",
    "print(\"Number of Null Values in test Dataset:\", (predict_data.isnull()==True).sum().sum())"
   ]
  },
  {
   "cell_type": "markdown",
   "metadata": {
    "id": "pRCP83hZLPf3"
   },
   "source": [
    "#### Observation:\n",
    "1. The Train Dataset has 581,012 Rows and 56 Columns\n",
    "2. The Test Dataset has 15,120 rows and 56 Columns.\n",
    "3. There is no null values found in Test dataset and 44 null values in the Train dataset."
   ]
  },
  {
   "cell_type": "code",
   "execution_count": 21,
   "metadata": {
    "colab": {
     "base_uri": "https://localhost:8080/"
    },
    "id": "nSAzv5YLhXcT",
    "outputId": "a0534c88-e014-4188-91fd-da8392083bfc"
   },
   "outputs": [
    {
     "ename": "AttributeError",
     "evalue": "'ZipExtFile' object has no attribute 'notnull'",
     "output_type": "error",
     "traceback": [
      "\u001b[1;31m---------------------------------------------------------------------------\u001b[0m",
      "\u001b[1;31mAttributeError\u001b[0m                            Traceback (most recent call last)",
      "\u001b[1;32m~\\AppData\\Local\\Temp/ipykernel_7028/2350185347.py\u001b[0m in \u001b[0;36m<module>\u001b[1;34m\u001b[0m\n\u001b[0;32m      1\u001b[0m \u001b[1;31m# remove null values from the train dataset\u001b[0m\u001b[1;33m\u001b[0m\u001b[1;33m\u001b[0m\u001b[1;33m\u001b[0m\u001b[0m\n\u001b[1;32m----> 2\u001b[1;33m \u001b[0mt_data\u001b[0m \u001b[1;33m=\u001b[0m \u001b[0mdata\u001b[0m\u001b[1;33m[\u001b[0m\u001b[0mdata\u001b[0m\u001b[1;33m.\u001b[0m\u001b[0mnotnull\u001b[0m\u001b[1;33m(\u001b[0m\u001b[1;33m)\u001b[0m\u001b[1;33m]\u001b[0m\u001b[1;33m\u001b[0m\u001b[1;33m\u001b[0m\u001b[0m\n\u001b[0m\u001b[0;32m      3\u001b[0m \u001b[0mprint\u001b[0m\u001b[1;33m(\u001b[0m\u001b[0mt_data\u001b[0m\u001b[1;33m.\u001b[0m\u001b[0mhead\u001b[0m\u001b[1;33m(\u001b[0m\u001b[1;33m)\u001b[0m\u001b[1;33m)\u001b[0m\u001b[1;33m\u001b[0m\u001b[1;33m\u001b[0m\u001b[0m\n\u001b[0;32m      4\u001b[0m \u001b[1;31m# check all null values removed and print shape\u001b[0m\u001b[1;33m\u001b[0m\u001b[1;33m\u001b[0m\u001b[1;33m\u001b[0m\u001b[0m\n\u001b[0;32m      5\u001b[0m \u001b[0mprint\u001b[0m\u001b[1;33m(\u001b[0m\u001b[1;34m\"Number of Null Values in training Dataset:\"\u001b[0m\u001b[1;33m,\u001b[0m \u001b[1;33m(\u001b[0m\u001b[0mt_data\u001b[0m\u001b[1;33m.\u001b[0m\u001b[0misnull\u001b[0m\u001b[1;33m(\u001b[0m\u001b[1;33m)\u001b[0m\u001b[1;33m==\u001b[0m\u001b[1;32mTrue\u001b[0m\u001b[1;33m)\u001b[0m\u001b[1;33m.\u001b[0m\u001b[0msum\u001b[0m\u001b[1;33m(\u001b[0m\u001b[1;33m)\u001b[0m\u001b[1;33m.\u001b[0m\u001b[0msum\u001b[0m\u001b[1;33m(\u001b[0m\u001b[1;33m)\u001b[0m\u001b[1;33m)\u001b[0m\u001b[1;33m\u001b[0m\u001b[1;33m\u001b[0m\u001b[0m\n",
      "\u001b[1;31mAttributeError\u001b[0m: 'ZipExtFile' object has no attribute 'notnull'"
     ]
    }
   ],
   "source": [
    "# remove null values from the train dataset\n",
    "t_data = data[data.notnull()]\n",
    "print(t_data.head())\n",
    "# check all null values removed and print shape\n",
    "print(\"Number of Null Values in training Dataset:\", (t_data.isnull()==True).sum().sum())\n",
    "print(\"Train Dataset Shape:\",t_data.shape)"
   ]
  },
  {
   "cell_type": "code",
   "execution_count": 22,
   "metadata": {
    "colab": {
     "base_uri": "https://localhost:8080/"
    },
    "id": "oWM6WZM2LPf5",
    "outputId": "0837b347-ec36-4fda-d45d-4c7483436e8d"
   },
   "outputs": [
    {
     "ename": "NameError",
     "evalue": "name 't_data' is not defined",
     "output_type": "error",
     "traceback": [
      "\u001b[1;31m---------------------------------------------------------------------------\u001b[0m",
      "\u001b[1;31mNameError\u001b[0m                                 Traceback (most recent call last)",
      "\u001b[1;32m~\\AppData\\Local\\Temp/ipykernel_7028/2727408712.py\u001b[0m in \u001b[0;36m<module>\u001b[1;34m\u001b[0m\n\u001b[1;32m----> 1\u001b[1;33m \u001b[0mt_data\u001b[0m\u001b[1;33m.\u001b[0m\u001b[0mcolumns\u001b[0m\u001b[1;33m\u001b[0m\u001b[1;33m\u001b[0m\u001b[0m\n\u001b[0m",
      "\u001b[1;31mNameError\u001b[0m: name 't_data' is not defined"
     ]
    }
   ],
   "source": [
    "t_data.columns"
   ]
  },
  {
   "cell_type": "code",
   "execution_count": null,
   "metadata": {
    "id": "YUKXb6N_LPf5"
   },
   "outputs": [],
   "source": [
    "# Rename Some of the Long Column Names\n",
    "t_data = t_data.rename(columns={'Horizontal_Distance_To_Hydrology': 'Hdist_to_hydro', \n",
    "                                    'Vertical_Distance_To_Hydrology': 'Vdist_to_hydro',\n",
    "                                    'Horizontal_Distance_To_Roadways': 'Hdist_to_road',\n",
    "                                    'Horizontal_Distance_To_Fire_Points': 'Hdist_to_FirePt',\n",
    "                                    'Wilderness_Area1':'Wilderness1',\n",
    "                                    'Wilderness_Area2':'Wilderness2',\n",
    "                                    'Wilderness_Area3':'Wilderness3',\n",
    "                                    'Wilderness_Area4':'Wilderness4'\n",
    "                                    })\n"
   ]
  },
  {
   "cell_type": "code",
   "execution_count": null,
   "metadata": {
    "id": "6SyFlmq5LPf4"
   },
   "outputs": [],
   "source": [
    "col_list = t_data.columns"
   ]
  },
  {
   "cell_type": "code",
   "execution_count": null,
   "metadata": {
    "colab": {
     "base_uri": "https://localhost:8080/"
    },
    "id": "Fm0hVzNALPf4",
    "outputId": "3a0a5dff-6e7c-44ad-9b13-48251a2752e5"
   },
   "outputs": [],
   "source": [
    "\n",
    "X = (t_data[col_list])\n",
    "Y = t_data[\"Cover_Type\"]\n",
    "shuffle = np.random.permutation(np.arange(X.shape[0]))\n",
    "train_split_share = 98 #percentage share of data in train data-set\n",
    "num_of_train_rows = int(data.shape[0] * train_split_share/100)\n",
    "print(\"Rows in train dataset:\",num_of_train_rows )\n",
    "print(\"Rows in dev dataset  :\",t_data.shape[0] - num_of_train_rows )\n",
    "\n",
    "X, Y = X.iloc[shuffle], Y.iloc[shuffle]\n",
    "df_train = t_data.iloc[shuffle,:].iloc[:num_of_train_rows , :]\n",
    "print('data shape: ', X.shape)\n",
    "print('label shape:', Y.shape)\n",
    "\n",
    "# Set some variables to hold test, dev, and training data.\n",
    "train_data, train_labels = X[:num_of_train_rows], Y[:num_of_train_rows] # 78% or 11794 rows\n",
    "dev_data, dev_labels = X[num_of_train_rows:], Y[num_of_train_rows:] # 7% or 1058 rows\n",
    "print(\"\\ntrain_data Shape  : \", train_data.shape, \"\\t train_labels     : \", train_labels.shape)\n",
    "print(\"dev_data Shape    : \", dev_data.shape, \"\\t dev_labels shape : \", dev_labels.shape)\n"
   ]
  },
  {
   "cell_type": "code",
   "execution_count": null,
   "metadata": {
    "colab": {
     "base_uri": "https://localhost:8080/"
    },
    "id": "toEIqRjHLPf5",
    "outputId": "7a858e01-fa52-4f7f-cf6f-77853bad310f"
   },
   "outputs": [],
   "source": [
    "#remove rows if it only contains zeros or NaN\n",
    "df_train = df_train[(data.T != 0).any()]\n",
    "df_train.shape"
   ]
  },
  {
   "cell_type": "code",
   "execution_count": null,
   "metadata": {
    "colab": {
     "base_uri": "https://localhost:8080/"
    },
    "id": "lJ6V4nWvg2LC",
    "outputId": "3cebb3bf-ed4b-48fb-d95d-53e1daecaebb"
   },
   "outputs": [],
   "source": [
    "print(\"Remaining number of Null Values in training Dataset after removing rows with only null values:\", (df_train.isnull()==True).sum().sum())"
   ]
  },
  {
   "cell_type": "code",
   "execution_count": null,
   "metadata": {
    "colab": {
     "base_uri": "https://localhost:8080/",
     "height": 364
    },
    "id": "po1cn290tMbR",
    "outputId": "2015ecac-7582-4934-a64c-60dcf743c061"
   },
   "outputs": [],
   "source": [
    "display(df_train.describe())"
   ]
  },
  {
   "cell_type": "code",
   "execution_count": null,
   "metadata": {
    "colab": {
     "base_uri": "https://localhost:8080/",
     "height": 270
    },
    "id": "B0b_Ju6wLPf6",
    "outputId": "41289a4a-3bca-4c5e-9034-509bb7906aa2"
   },
   "outputs": [],
   "source": [
    "df_train.head()"
   ]
  },
  {
   "cell_type": "code",
   "execution_count": null,
   "metadata": {
    "colab": {
     "base_uri": "https://localhost:8080/"
    },
    "id": "QtNsFFM0LPf6",
    "outputId": "d5afebef-d22b-4944-b012-c5b593c757bf"
   },
   "outputs": [],
   "source": [
    "# Soil_Type\n",
    "# There are 40 soil_type fields representing each of the following types of soil\n",
    "# These fields are binary \n",
    "\"\"\"\n",
    "The soil types are:\n",
    "1 Cathedral family - Rock outcrop complex, extremely stony.\n",
    "2 Vanet - Ratake families complex, very stony.\n",
    "3 Haploborolis - Rock outcrop complex, rubbly.\n",
    "4 Ratake family - Rock outcrop complex, rubbly.\n",
    "5 Vanet family - Rock outcrop complex complex, rubbly.\n",
    "6 Vanet - Wetmore families - Rock outcrop complex, stony.\n",
    "7 Gothic family.\n",
    "8 Supervisor - Limber families complex.\n",
    "9 Troutville family, very stony.\n",
    "10 Bullwark - Catamount families - Rock outcrop complex, rubbly.\n",
    "11 Bullwark - Catamount families - Rock land complex, rubbly.\n",
    "12 Legault family - Rock land complex, stony.\n",
    "13 Catamount family - Rock land - Bullwark family complex, rubbly.\n",
    "14 Pachic Argiborolis - Aquolis complex.\n",
    "15 unspecified in the USFS Soil and ELU Survey.\n",
    "16 Cryaquolis - Cryoborolis complex.\n",
    "17 Gateview family - Cryaquolis complex.\n",
    "18 Rogert family, very stony.\n",
    "19 Typic Cryaquolis - Borohemists complex.\n",
    "20 Typic Cryaquepts - Typic Cryaquolls complex.\n",
    "21 Typic Cryaquolls - Leighcan family, till substratum complex.\n",
    "22 Leighcan family, till substratum, extremely bouldery.\n",
    "23 Leighcan family, till substratum - Typic Cryaquolls complex.\n",
    "24 Leighcan family, extremely stony.\n",
    "25 Leighcan family, warm, extremely stony.\n",
    "26 Granile - Catamount families complex, very stony.\n",
    "27 Leighcan family, warm - Rock outcrop complex, extremely stony.\n",
    "28 Leighcan family - Rock outcrop complex, extremely stony.\n",
    "29 Como - Legault families complex, extremely stony.\n",
    "30 Como family - Rock land - Legault family complex, extremely stony.\n",
    "31 Leighcan - Catamount families complex, extremely stony.\n",
    "32 Catamount family - Rock outcrop - Leighcan family complex, extremely stony.\n",
    "33 Leighcan - Catamount families - Rock outcrop complex, extremely stony.\n",
    "34 Cryorthents - Rock land complex, extremely stony.\n",
    "35 Cryumbrepts - Rock outcrop - Cryaquepts complex.\n",
    "36 Bross family - Rock land - Cryumbrepts complex, extremely stony.\n",
    "37 Rock outcrop - Cryumbrepts - Cryorthents complex, extremely stony.\n",
    "38 Leighcan - Moran families - Cryaquolls complex, extremely stony.\n",
    "39 Moran family - Cryorthents - Leighcan family complex, extremely stony.\n",
    "40 Moran family - Cryorthents - Rock land complex, extremely stony.\n",
    "\"\"\"\n",
    "# unique values in a soil field\n",
    "print(df_train.Soil_Type1.unique(), df_train.Soil_Type2.unique(), df_train.Soil_Type3.unique(), df_train.Soil_Type4.unique(), df_train.Soil_Type5.unique(),df_train.Soil_Type6.unique(),\n",
    "df_train.Soil_Type7.unique(),\n",
    "df_train.Soil_Type8.unique(),\n",
    "df_train.Soil_Type9.unique(),\n",
    "df_train.Soil_Type10.unique(),\n",
    "df_train.Soil_Type11.unique(),\n",
    "df_train.Soil_Type12.unique(),\n",
    "df_train.Soil_Type13.unique(),\n",
    "df_train.Soil_Type14.unique(),\n",
    "df_train.Soil_Type15.unique(),\n",
    "df_train.Soil_Type16.unique(),\n",
    "df_train.Soil_Type17.unique(),\n",
    "df_train.Soil_Type18.unique(),\n",
    "df_train.Soil_Type19.unique(),\n",
    "df_train.Soil_Type20.unique(),\n",
    "df_train.Soil_Type21.unique(),\n",
    "df_train.Soil_Type22.unique(),\n",
    "df_train.Soil_Type23.unique(),\n",
    "df_train.Soil_Type24.unique(),\n",
    "df_train.Soil_Type25.unique(),\n",
    "df_train.Soil_Type26.unique(),\n",
    "df_train.Soil_Type27.unique(),\n",
    "df_train.Soil_Type28.unique(),\n",
    "df_train.Soil_Type29.unique(),\n",
    "df_train.Soil_Type30.unique(),\n",
    "df_train.Soil_Type31.unique(),\n",
    "df_train.Soil_Type32.unique(),\n",
    "df_train.Soil_Type33.unique(),\n",
    "df_train.Soil_Type34.unique(),\n",
    "df_train.Soil_Type35.unique(),\n",
    "df_train.Soil_Type36.unique(),\n",
    "df_train.Soil_Type37.unique(),\n",
    "df_train.Soil_Type38.unique(),\n",
    "df_train.Soil_Type39.unique(),\n",
    "df_train.Soil_Type40.unique())"
   ]
  },
  {
   "cell_type": "code",
   "execution_count": null,
   "metadata": {
    "colab": {
     "base_uri": "https://localhost:8080/"
    },
    "id": "8pqxLWH7LPf6",
    "outputId": "57fb21e7-aa7b-4e2f-9b4d-67e722c59c88"
   },
   "outputs": [],
   "source": [
    "# Forest Cover: Cover_Type\n",
    "# unique Values in cover_type field (This is tyoes of trees that cover the forest ground)\n",
    "'''\n",
    " This value is 1-7 and indicates\n",
    " 1 - Spruce/Fir\n",
    " 2 - Lodgepole Pine\n",
    " 3 - Ponderosa Pine\n",
    " 4 - Cottonwood/Willow\n",
    " 5 - Aspen\n",
    " 6 - Douglas-fir\n",
    " 7 - Krummholz\n",
    "'''\n",
    "print(\"unique Cover_Type:\",sorted(df_train.Cover_Type.unique()))"
   ]
  },
  {
   "cell_type": "code",
   "execution_count": null,
   "metadata": {
    "colab": {
     "base_uri": "https://localhost:8080/",
     "height": 534
    },
    "id": "un8_fFU_LPf7",
    "outputId": "38ff84c7-f45b-4c73-a2e2-3985f80ee06d"
   },
   "outputs": [],
   "source": [
    "# Distribution of Cover_Type\n",
    "df_train.hist('Cover_Type', grid=False, figsize=(12,8), color='#86bf91', zorder=2, rwidth=0.9)"
   ]
  },
  {
   "cell_type": "code",
   "execution_count": null,
   "metadata": {
    "colab": {
     "base_uri": "https://localhost:8080/",
     "height": 534
    },
    "id": "9vqkCu2dg2LD",
    "outputId": "98142533-ab0a-42a1-e098-9f66aefe0a71"
   },
   "outputs": [],
   "source": [
    "# Distribution of Cover_Type\n",
    "df_train.hist('Slope', grid=False, figsize=(12,8),  zorder=2, rwidth=0.9)"
   ]
  },
  {
   "cell_type": "code",
   "execution_count": null,
   "metadata": {
    "colab": {
     "base_uri": "https://localhost:8080/"
    },
    "id": "DZzZ08MKLPf7",
    "outputId": "1dea84ba-2b42-4993-b3a8-9e2b340d6dd3"
   },
   "outputs": [],
   "source": [
    "# Wilderness Area\n",
    "# There are 4 columns representing wilderness Area\n",
    "# The Value seems binary\n",
    "'''\n",
    "The four columns represent the following: \n",
    "1 - Rawah Wilderness Area\n",
    "2 - Neota Wilderness Area\n",
    "3 - Comanche Peak Wilderness Area\n",
    "4 - Cache la Poudre Wilderness Area\n",
    "'''\n",
    "print(df_train.Wilderness1.unique(), df_train.Wilderness2.unique(), df_train.Wilderness3.unique(), df_train.Wilderness4.unique())"
   ]
  },
  {
   "cell_type": "markdown",
   "metadata": {
    "id": "NaM_Ug8zLPf7"
   },
   "source": [
    "### Observation Summary:\n",
    "There are no text fields.\n",
    "\n",
    "All fields are continous or binary. \n",
    "\n",
    "There are 40 soil fields and that are binary.\n",
    "\n",
    "There are 4 Wilderness Area fields are binary.\n",
    "\n",
    "#### The following fields are continuous:\n",
    "\n",
    "Elevation\n",
    "\n",
    "Aspect\n",
    "\n",
    "Slope\n",
    "\n",
    "Horizontal_Distance_To_Hydrology\n",
    "\n",
    "Vertical_Distance_To_Hydrology\n",
    "\n",
    "Horizontal_Distance_To_Roadways\n",
    "\n",
    "Hillshade_9am\n",
    "\n",
    "Hillshade_Noon\n",
    "\n",
    "Hillshade_3pm\n",
    "\n",
    "Horizontal_Distance_To_Fire_Points\n",
    "\n",
    "###  outcome: Predict the forest cover type"
   ]
  },
  {
   "cell_type": "code",
   "execution_count": null,
   "metadata": {
    "colab": {
     "base_uri": "https://localhost:8080/",
     "height": 1000
    },
    "id": "m2HEepWyEdMd",
    "outputId": "0813feb7-2144-4444-89a3-f611f45f1994"
   },
   "outputs": [],
   "source": [
    "# Correlation between fields\n",
    "corr_matrix = df_train.corr(method ='pearson')\n",
    "corr_matrix"
   ]
  },
  {
   "cell_type": "code",
   "execution_count": null,
   "metadata": {
    "colab": {
     "base_uri": "https://localhost:8080/",
     "height": 1000
    },
    "id": "EBSwOlPQLPf8",
    "outputId": "2da3652c-94ab-41fb-da04-bb1729e5f566"
   },
   "outputs": [],
   "source": [
    "corr_matrix.style.background_gradient(cmap='coolwarm')"
   ]
  },
  {
   "cell_type": "code",
   "execution_count": null,
   "metadata": {
    "colab": {
     "base_uri": "https://localhost:8080/",
     "height": 316
    },
    "id": "qb3j04P5LPf8",
    "outputId": "1e9bed58-f19e-45ca-c902-954a43be941d"
   },
   "outputs": [],
   "source": [
    "#Closer Look at Field Soil_Type7 that does not show any correlation with other fields\n",
    "df_train.hist(column='Soil_Type7')"
   ]
  },
  {
   "cell_type": "code",
   "execution_count": null,
   "metadata": {
    "colab": {
     "base_uri": "https://localhost:8080/",
     "height": 316
    },
    "id": "xRgJoo_TLPf8",
    "outputId": "bae80264-cac0-4b8f-8ce4-15118a2dae82"
   },
   "outputs": [],
   "source": [
    "#Closer Look at Field Soil_Type15 that does not show any correlation with other fields\n",
    "df_train.hist(column='Soil_Type15')"
   ]
  },
  {
   "cell_type": "code",
   "execution_count": null,
   "metadata": {
    "colab": {
     "base_uri": "https://localhost:8080/",
     "height": 316
    },
    "id": "IdWm-PhWSw8N",
    "outputId": "c7da422c-d32e-499d-abc2-28764e5dcf68"
   },
   "outputs": [],
   "source": [
    "#Closer Look at Field Soil_Type25 that does not show any correlation with other fields\n",
    "df_train.hist(column='Soil_Type25')"
   ]
  },
  {
   "cell_type": "markdown",
   "metadata": {
    "id": "Rfj3IaBaLPf8"
   },
   "source": [
    "### Observation from correlation matrix\n",
    "#### Both these observations make sense because all train data had values of 0 for soil type 7, 15, and 25.\n",
    "##### Soil_Type7, Soil_Type15, and Soil_Type25 can be dropped from the dataset because they have no effect on the behavior of the other columns. \n",
    "##### The data set is very large. With an ordinary laptop, it takes very long to process it. We are sampling  1/12th of the dataset to draw pair plot to find correlations between fields.\n"
   ]
  },
  {
   "cell_type": "code",
   "execution_count": null,
   "metadata": {
    "colab": {
     "base_uri": "https://localhost:8080/"
    },
    "id": "_oJFwfHjS9r2",
    "outputId": "361b99c2-610e-4fad-a5e9-25bbdcdd5e99"
   },
   "outputs": [],
   "source": [
    "# remove columns Soil_Type7, Soil_Type15, and Soil_Type25 from all datasets\n",
    "\n",
    "df_train = df_train.drop(labels = ['Soil_Type7','Soil_Type15','Soil_Type25'], axis = 1)\n",
    "\n",
    "# resplit train, dev data\n",
    "train_data, train_labels = X[:num_of_train_rows], Y[:num_of_train_rows] # 78% or 11794 rows\n",
    "dev_data, dev_labels = X[num_of_train_rows:], Y[num_of_train_rows:] # 7% or 1058 rows\n",
    "print(\"\\ntrain_data Shape  : \", train_data.shape, \"\\t train_labels     : \", train_labels.shape)\n",
    "print(\"dev_data Shape    : \", dev_data.shape, \"\\t dev_labels shape : \", dev_labels.shape)\n",
    "\n"
   ]
  },
  {
   "cell_type": "code",
   "execution_count": null,
   "metadata": {
    "colab": {
     "base_uri": "https://localhost:8080/"
    },
    "id": "9q51YYcsg2LE",
    "outputId": "54204086-e881-42d5-9149-b8d53459e25e"
   },
   "outputs": [],
   "source": [
    "# Sample 1/12th of dataset\n",
    "print(\"Sample Size:\",int(num_of_train_rows/15) )\n",
    "plot_df_train = df_train.sample(n=int(num_of_train_rows))"
   ]
  },
  {
   "cell_type": "code",
   "execution_count": null,
   "metadata": {
    "colab": {
     "base_uri": "https://localhost:8080/",
     "height": 797
    },
    "id": "OPIQeVOULPf8",
    "outputId": "a97eb5c1-0a0e-4a47-b43d-c419859b3e0f"
   },
   "outputs": [],
   "source": [
    "# Correlation and Distribution Plot for some of the more closely related fields\n",
    "sns.set_style(\"ticks\")\n",
    "sns.set_style(\"darkgrid\", {\"axes.facecolor\": \".9\"})\n",
    "sub_df = plot_df_train[['Elevation', 'Aspect', 'Slope','Hdist_to_hydro','Vdist_to_hydro', 'Hdist_to_road','Hdist_to_FirePt' ,\n",
    "        'Cover_Type' ]]\n",
    "sns.pairplot(hue=\"Cover_Type\", data=sub_df, palette='RdBu', diag_kws={'alpha':.5})\n"
   ]
  },
  {
   "cell_type": "markdown",
   "metadata": {
    "id": "zRg7xmETWlHX"
   },
   "source": [
    "Upon first glance, it seems that elevation and forest cover type are highly correlated. Aspect, Horizontal distance to road, and horizontal distance to fires seem to be correlated to the forest cover type as well. The correlation between other variable such as slope, and horizontal and vertical distance to water seems to be rather small."
   ]
  },
  {
   "cell_type": "code",
   "execution_count": null,
   "metadata": {
    "id": "DNRoggA1VRsL"
   },
   "outputs": [],
   "source": [
    "# Correlation and Distribution Plot for wilderness and hillshade measures\n",
    "sns.set_style(\"ticks\")\n",
    "sns.set_style(\"darkgrid\", {\"axes.facecolor\": \".9\"})\n",
    "sub_df = plot_df_train[['Wilderness1', 'Wilderness2', 'Wilderness3','Wilderness4','Hillshade_9am', 'Hillshade_Noon','Hillshade_3pm' ,\n",
    "        'Cover_Type' ]]\n",
    "sns.pairplot(hue=\"Cover_Type\", data=sub_df, palette='RdBu', diag_kws={'alpha':.5})"
   ]
  },
  {
   "cell_type": "markdown",
   "metadata": {
    "id": "d6NuBFBmWKnE"
   },
   "source": [
    "From an initial look, wilderness types don't seem to profoundly impact forest cover types, but do show some correlation. Similarly hillshade for different forest cover types seems to be pretty uniform, but there could be some sort of siginficant impact. Further analysis will need to be done."
   ]
  },
  {
   "cell_type": "markdown",
   "metadata": {
    "id": "YX3-e59h6f02"
   },
   "source": [
    "### Let's look at a boxplot distribution for our continuous variables to get a better understanding of their distribution, mean, and variance."
   ]
  },
  {
   "cell_type": "code",
   "execution_count": null,
   "metadata": {
    "colab": {
     "base_uri": "https://localhost:8080/"
    },
    "id": "OMMEMuJ_7gFZ",
    "outputId": "5922420e-80a3-4002-f0ca-9448907b6e9d"
   },
   "outputs": [],
   "source": [
    "train_data.columns"
   ]
  },
  {
   "cell_type": "code",
   "execution_count": null,
   "metadata": {
    "id": "bQ9o3jTe6fQJ"
   },
   "outputs": [],
   "source": [
    "train_data.boxplot(column= ['Elevation','Hdist_to_hydro'])"
   ]
  },
  {
   "cell_type": "code",
   "execution_count": null,
   "metadata": {
    "id": "TuchglfF8xNL"
   },
   "outputs": [],
   "source": [
    "train_data.boxplot(column= ['Hdist_to_road',\n",
    "       'Hdist_to_FirePt'])"
   ]
  },
  {
   "cell_type": "code",
   "execution_count": null,
   "metadata": {
    "colab": {
     "base_uri": "https://localhost:8080/",
     "height": 284
    },
    "id": "gDy8p3iC8kgU",
    "outputId": "74dca454-954c-4127-901a-a6f2cb46402a"
   },
   "outputs": [],
   "source": [
    "train_data.boxplot(column= ['Aspect', 'Slope',\n",
    "       'Vdist_to_hydro'])"
   ]
  },
  {
   "cell_type": "code",
   "execution_count": null,
   "metadata": {
    "id": "JuiaGH2S89-O"
   },
   "outputs": [],
   "source": [
    "train_data.boxplot(column= ['Hillshade_9am', 'Hillshade_Noon', 'Hillshade_3pm'])"
   ]
  },
  {
   "cell_type": "markdown",
   "metadata": {
    "id": "Vr1QwNbzXN4C"
   },
   "source": [
    "### EDA Insights\n",
    "#### From our initial data analysis we can expect that some key factors in our classification model could be elevation, aspect, horizontal distance to fires, and horizontal distance to roads. Wilderness types may have little impact when predicting forest cover types, but we could find that certain wilderness types such as types one and four, could have some correlation to determining forest cover type. We expect to see vertical distance to hydro to have little impact in predicting forest cover type. Additionally, from the box plots of our continuous variables we have a good idea of their distributions, means, and variances. The distance measures tend to have high variances. The hillshade values at 9am and Noon seem to have similar distributions, and therefore we could see that hillshade 3pm is a feature that has more predictive power than the other two hillshade measures."
   ]
  }
 ],
 "metadata": {
  "colab": {
   "collapsed_sections": [],
   "include_colab_link": true,
   "name": "W207_Final_Project_EDA_v4.ipynb",
   "provenance": []
  },
  "kernelspec": {
   "display_name": "Python 3 (ipykernel)",
   "language": "python",
   "name": "python3"
  },
  "language_info": {
   "codemirror_mode": {
    "name": "ipython",
    "version": 3
   },
   "file_extension": ".py",
   "mimetype": "text/x-python",
   "name": "python",
   "nbconvert_exporter": "python",
   "pygments_lexer": "ipython3",
   "version": "3.8.12"
  }
 },
 "nbformat": 4,
 "nbformat_minor": 4
}
