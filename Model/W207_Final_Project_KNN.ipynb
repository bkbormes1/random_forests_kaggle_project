{
 "cells": [
  {
   "cell_type": "markdown",
   "metadata": {
    "colab_type": "text",
    "id": "view-in-github"
   },
   "source": [
    "<a href=\"https://colab.research.google.com/github/savitaChari/W207-Final-Project-Group3_Section6/blob/main/Model/W207_Final_Project_KNN.ipynb\" target=\"_parent\"><img src=\"https://colab.research.google.com/assets/colab-badge.svg\" alt=\"Open In Colab\"/></a>"
   ]
  },
  {
   "cell_type": "markdown",
   "metadata": {
    "id": "XsPjhyGVA8Cw"
   },
   "source": [
    "# DATA PREPROCESSING AND FEATURE ENGINEERING"
   ]
  },
  {
   "cell_type": "markdown",
   "metadata": {
    "id": "MbonN-KCFIdg"
   },
   "source": [
    "### Background\n",
    "To ensure our models are based on significant, abundant data, we began by executing data preprocessing techniques including reverse hot encoding of sparse data, scaling our data, and feature selecting relevant attributes. These techniques will help drive the high accuracies in different types of models used to predict forest cover types.\n",
    "\n",
    "\n"
   ]
  },
  {
   "cell_type": "markdown",
   "metadata": {
    "id": "LBunYuS7A8C0"
   },
   "source": [
    "### SETUP\n",
    "<hr>"
   ]
  },
  {
   "cell_type": "code",
   "execution_count": 1,
   "metadata": {
    "id": "GyscwQc5A8C1"
   },
   "outputs": [],
   "source": [
    "import pandas as pd\n",
    "import numpy as np\n",
    "import random \n",
    "import itertools \n",
    "from zipfile import ZipFile\n",
    "\n",
    "from sklearn.preprocessing import LabelEncoder\n",
    "from sklearn.ensemble import RandomForestClassifier\n",
    "from sklearn.model_selection import train_test_split\n",
    "from sklearn.metrics import accuracy_score\n",
    "from sklearn import preprocessing\n",
    "from sklearn.neighbors import KNeighborsClassifier\n",
    "from sklearn.dummy import DummyClassifier\n",
    "from sklearn.metrics import classification_report\n",
    "from sklearn.metrics import confusion_matrix\n",
    "import seaborn as sns\n",
    "\n",
    "import matplotlib.pyplot as plt\n",
    "%matplotlib inline"
   ]
  },
  {
   "cell_type": "markdown",
   "metadata": {
    "id": "ERAdaPehA8C2"
   },
   "source": [
    "### GET DATA\n",
    "<hr>"
   ]
  },
  {
   "cell_type": "code",
   "execution_count": 20,
   "metadata": {
    "id": "RdV43__OA8C9"
   },
   "outputs": [],
   "source": [
    "with ZipFile(\"../train.zip\") as myzip:\n",
    "    data = myzip.open(\"train.csv\")\n",
    "    train_df = pd.read_csv(data)\n",
    "    train_df.drop(train_df.columns[0], axis = 1, inplace = True)\n",
    "    \n",
    "with ZipFile(\"../val.zip\") as myzip:\n",
    "    data = myzip.open(\"val.csv\")\n",
    "    val_df = pd.read_csv(data)\n",
    "    val_df.drop(val_df.columns[0], axis = 1, inplace = True)\n",
    "\n",
    "with ZipFile(\"../test.zip\") as myzip:\n",
    "    data = myzip.open(\"test.csv\")\n",
    "    test_df = pd.read_csv(data)\n",
    "    test_df.drop(test_df.columns[0], axis = 1, inplace = True)\n",
    "    "
   ]
  },
  {
   "cell_type": "code",
   "execution_count": 11,
   "metadata": {
    "id": "lDaUQya8A8C9"
   },
   "outputs": [],
   "source": [
    "# split our datasets into data and labels\n",
    "x_train = train_df.values[:, :-1]\n",
    "y_train  = train_df.values[:, -1]\n",
    "x_val = val_df.values[:, :-1]\n",
    "y_val  = val_df.values[:, -1]\n",
    "x_test = test_df.values[:, :-1]\n",
    "y_test  = test_df.values[:, -1]"
   ]
  },
  {
   "cell_type": "markdown",
   "metadata": {
    "id": "GHLdw4N0A8C8"
   },
   "source": [
    "### FEATURE SELECTION DATASET\n",
    "<hr>"
   ]
  },
  {
   "cell_type": "code",
   "execution_count": 15,
   "metadata": {
    "colab": {
     "base_uri": "https://localhost:8080/"
    },
    "id": "RdunlJRfA8C_",
    "outputId": "e7bebad7-3873-4b66-86b0-b2db75abbc1e"
   },
   "outputs": [
    {
     "name": "stdout",
     "output_type": "stream",
     "text": [
      "Our random forest classified 96.31% of the of the trees correctly\n"
     ]
    }
   ],
   "source": [
    "#create dataset with feature selection\n",
    "train_df2 = train_df.drop(columns='Hillshade_3pm')\n",
    "val_df2 = val_df.drop(columns='Hillshade_3pm')\n",
    "test_df2 = test_df.drop(columns='Hillshade_3pm')\n",
    "\n",
    "x_train2 = train_df2.values[:, :-1]\n",
    "y_train2  = train_df2.values[:, -1]\n",
    "x_val2 = val_df2.values[:, :-1]\n",
    "y_val2  = val_df2.values[:, -1]\n",
    "x_test2 = test_df2.values[:, :-1]\n",
    "y_test2  = test_df2.values[:, -1]\n"
   ]
  },
  {
   "cell_type": "markdown",
   "metadata": {
    "id": "BGGrqA62IiC6"
   },
   "source": [
    "# Baseline"
   ]
  },
  {
   "cell_type": "markdown",
   "metadata": {
    "id": "CnlKobzEIklf"
   },
   "source": [
    "### We will set a baseline model to understand how much our other models performance improved"
   ]
  },
  {
   "cell_type": "code",
   "execution_count": 16,
   "metadata": {
    "colab": {
     "base_uri": "https://localhost:8080/"
    },
    "id": "fuIQSyR6Ir4Z",
    "outputId": "157b0690-275e-40e0-994f-b9543efbd2e2"
   },
   "outputs": [
    {
     "name": "stdout",
     "output_type": "stream",
     "text": [
      "Our dummy algorithm classified 38.0% of the trees correctly\n"
     ]
    }
   ],
   "source": [
    "# dummy baseline\n",
    "dummy = DummyClassifier(strategy='stratified', random_state = 1)\n",
    "\n",
    "#train the model with training data\n",
    "dummy.fit(x_train, y_train)\n",
    "\n",
    "#get accuracy score\n",
    "baseline_accuracy = round(dummy.score(x_val, y_val),2)\n",
    "print(f\"Our dummy algorithm classified {baseline_accuracy*100}% of the trees correctly\")"
   ]
  },
  {
   "cell_type": "markdown",
   "metadata": {
    "id": "vrBslOolEcUO"
   },
   "source": [
    "# KNN Model Analysis and Hyperparameter Tuning"
   ]
  },
  {
   "cell_type": "markdown",
   "metadata": {
    "id": "GZ3nm54ALXse"
   },
   "source": [
    "### We will first determine if we should use feature selected dataset or the full data set within our KNN model based on randomly chosen KNN model parameters"
   ]
  },
  {
   "cell_type": "code",
   "execution_count": 17,
   "metadata": {
    "colab": {
     "base_uri": "https://localhost:8080/"
    },
    "id": "GkLazPeqLiPL",
    "outputId": "2d93f002-2fee-4234-9521-00ceed2e3a3b"
   },
   "outputs": [
    {
     "name": "stdout",
     "output_type": "stream",
     "text": [
      "The accuracy of the original KNN model with the full data set is 92.01599999999999%\n"
     ]
    }
   ],
   "source": [
    "# KNN model based on full dataset\n",
    "KNN_model = KNeighborsClassifier(n_neighbors = 5)\n",
    "KNN_model.fit(x_train, y_train)\n",
    "KNN_model_accuracy = round(KNN_model.score(x_val, y_val),5)\n",
    "print(f\"The accuracy of the original KNN model with the full data set is {KNN_model_accuracy*100}%\")"
   ]
  },
  {
   "cell_type": "code",
   "execution_count": 18,
   "metadata": {
    "colab": {
     "base_uri": "https://localhost:8080/"
    },
    "id": "FEUP6WOEMJPa",
    "outputId": "139e8edf-2164-40ca-9bb2-ef23825992b1"
   },
   "outputs": [
    {
     "name": "stdout",
     "output_type": "stream",
     "text": [
      "The accuracy of the KNN model with the feature selected data set is 92.414%\n"
     ]
    }
   ],
   "source": [
    "# KNN model based on feature selected dataset\n",
    "KNN_model_fs = KNeighborsClassifier(n_neighbors = 5)\n",
    "KNN_model_fs.fit(x_train2, y_train2)\n",
    "KNN_model_fs_accuracy = round(KNN_model_fs.score(x_val2, y_val2),5)\n",
    "print(f\"The accuracy of the KNN model with the feature selected data set is {KNN_model_fs_accuracy*100}%\")"
   ]
  },
  {
   "cell_type": "markdown",
   "metadata": {
    "id": "oDmO0JgrMcvT"
   },
   "source": [
    "Because the feature selected model has a higher accuracy of about 0.4%, we will use the feature selected data set for our hyperparameter tuning."
   ]
  },
  {
   "cell_type": "markdown",
   "metadata": {
    "id": "rfZQ05oEEhPT"
   },
   "source": [
    "### We will attempt to improve upon our Random Forest model by analyzing a KNN model as well and modifying the following hyperparameters: \n",
    "- Number of neighbors \n",
    "- Weights \n",
    "- Distance formula (Manhattan or Euclidean) "
   ]
  },
  {
   "cell_type": "code",
   "execution_count": 19,
   "metadata": {
    "colab": {
     "base_uri": "https://localhost:8080/",
     "height": 295
    },
    "id": "oJCqRtE-A8C_",
    "outputId": "08bf180d-03aa-4b48-e837-21b4df55ad26"
   },
   "outputs": [
    {
     "data": {
      "image/png": "[encoded data removed]",
      "text/plain": [
       "<Figure size 432x288 with 1 Axes>"
      ]
     },
     "metadata": {
      "needs_background": "light"
     },
     "output_type": "display_data"
    }
   ],
   "source": [
    "# KNN model analysis\n",
    "# set hyperparameters\n",
    "n = [1,2,3,4,5,6,7,8,9,10] # number of neighbors\n",
    "w_u = 'uniform' # weights{‘uniform’, ‘distance’} or callable, default=’uniform’\n",
    "w_d = 'distance'\n",
    "p_value_m = 1 #Power parameter for the Minkowski metric. When p = 1, this is equivalent to using manhattan_distance (l1), and euclidean_distance (l2) for p = 2, default=2\n",
    "p_value_e = 2\n",
    "\n",
    "# Create KNN models across different numbers of neighbors\n",
    "UM_combined_accuracies = []\n",
    "UE_combined_accuracies = []\n",
    "DM_combined_accuracies = []\n",
    "DE_combined_accuracies = []\n",
    "\n",
    "for i in n:\n",
    "  UM_model = KNeighborsClassifier(n_neighbors=i, weights=w_u, p=p_value_m)\n",
    "  UM_model.fit(x_train2, y_train2)\n",
    "  UE_model = KNeighborsClassifier(n_neighbors=i, weights=w_u, p=p_value_e)\n",
    "  UE_model.fit(x_train2, y_train2)\n",
    "  DM_model = KNeighborsClassifier(n_neighbors=i, weights=w_d, p=p_value_m)\n",
    "  DM_model.fit(x_train2, y_train2)\n",
    "  DE_model = KNeighborsClassifier(n_neighbors=i, weights=w_d, p=p_value_e)\n",
    "  DE_model.fit(x_train2, y_train2)  \n",
    "\n",
    "  # Determine the main metric of evaluation: Accuracy\n",
    "  UM_model_accuracy = UM_model.score(x_val2, y_val2)\n",
    "  UM_combined_accuracies.append(UM_model_accuracy)\n",
    "  UE_model_accuracy = UE_model.score(x_val2, y_val2)\n",
    "  UE_combined_accuracies.append(UE_model_accuracy)\n",
    "  DM_model_accuracy = DM_model.score(x_val2, y_val2)\n",
    "  DM_combined_accuracies.append(DM_model_accuracy)\n",
    "  DE_model_accuracy = DE_model.score(x_val2, y_val2)\n",
    "  DE_combined_accuracies.append(DE_model_accuracy)\n",
    "\n",
    "# Plot impact of number of neighbors on accuracies \n",
    "plt.figure()\n",
    "plt.plot(n, UM_combined_accuracies, label = \"Uniform weights and Manhattan Distance\")\n",
    "plt.plot(n, UE_combined_accuracies, label = \"Uniform weights and Euclidean Distance\")\n",
    "plt.plot(n, DM_combined_accuracies, label = \"Distance weights and Manhattan Distance\")\n",
    "plt.plot(n, DE_combined_accuracies, label = \"Distance weights and Euclidean Distance\")\n",
    "plt.xlabel('Number of Neighbors')\n",
    "plt.ylabel('Accuracies')\n",
    "plt.legend()\n",
    "plt.title('Accuracies vs Number of Neighbors')\n",
    "plt.show()"
   ]
  },
  {
   "cell_type": "markdown",
   "metadata": {
    "id": "Fm4nZebRNt1p"
   },
   "source": [
    "The highest performing KNN model has 4 neighbors, uses the distance weight and manhattan distance. Below you will see our further analysis of metrics of evaluation to evaluate model performance."
   ]
  },
  {
   "cell_type": "code",
   "execution_count": null,
   "metadata": {
    "colab": {
     "base_uri": "https://localhost:8080/"
    },
    "id": "WkilVSSEIKjX",
    "outputId": "95338942-0996-4cd0-c03c-1d477e2fdcbe"
   },
   "outputs": [
    {
     "name": "stdout",
     "output_type": "stream",
     "text": [
      "Accuracy of the KNN model with distance weights, Manhattan Distance, and 5 neighbors is 0.940136834984544\n",
      "The classification of KNN model is               precision    recall  f1-score   support\n",
      "\n",
      "         1.0       0.94      0.94      0.94     42595\n",
      "         2.0       0.95      0.95      0.95     56956\n",
      "         3.0       0.93      0.92      0.92      7334\n",
      "         4.0       0.85      0.81      0.83       532\n",
      "         5.0       0.85      0.82      0.84      1901\n",
      "         6.0       0.84      0.86      0.85      3431\n",
      "         7.0       0.95      0.95      0.95      4034\n",
      "\n",
      "    accuracy                           0.94    116783\n",
      "   macro avg       0.90      0.89      0.90    116783\n",
      "weighted avg       0.94      0.94      0.94    116783\n",
      "\n",
      "[[39987  2378     3     0    34     9   184]\n",
      " [ 2126 54271   142     3   218   159    37]\n",
      " [    3   129  6761    48    17   376     0]\n",
      " [    0     2    72   432     0    26     0]\n",
      " [   41   266    18     0  1568     8     0]\n",
      " [    6   142   310    24     6  2943     0]\n",
      " [  177    27     0     0     0     0  3830]]\n"
     ]
    }
   ],
   "source": [
    "# KNN model with the hyperparameters that produce the highest accuracy: distance weights, Manhattan Distance, and 4 neighbors\n",
    "# set hyperparameters\n",
    "\n",
    "# Create KNN model\n",
    "best_KNN_model = KNeighborsClassifier(n_neighbors=4, weights='distance', p=1)\n",
    "best_KNN_model.fit(x_train2, y_train2)\n",
    "\n",
    "# Determine the main metric of evaluation: Accuracy\n",
    "best_KNN_model_accuracy = best_KNN_model.score(x_val2, y_val2)\n",
    "print(f\"Accuracy of the KNN model with distance weights, Manhattan Distance, and 4 neighbors is {best_KNN_model_accuracy}\")\n",
    "\n",
    "# Determine the supplementary metrics of evaluation: Precision, Recall, and F1\n",
    "KNN_pred_labels = best_KNN_model.predict(x_val2)\n",
    "KNN_classification = classification_report(y_val2, KNN_pred_labels) # reports Precision, Recall, and F1 Score\n",
    "print(f\"The classification of KNN model is {KNN_classification}\")\n",
    "\n",
    "# Create a confusion matrix for the model\n",
    "print(confusion_matrix(y_val2, KNN_pred_labels))"
   ]
  },
  {
   "cell_type": "markdown",
   "metadata": {
    "id": "4UgQAJHLVfGa"
   },
   "source": [
    "The highest performing KNN model has an accuracy of 94%. This model used data preprocessing, feature engineering, and hyperparameter tuning to find the optimal model. This model is 56% better than predicting forest cover types than our baseline model. Based on the F1 score, our model is worst at predicting forest cover types 3 with a score of 0.83 and best at predicting forest cover type 1 and 6 with an F1 score of 0.95. Based on the confusion matrix, we can see that forest covers of type 0 are most regulary confused for type 1 and vice versa, forest covers of type 1 are often mistaken for type 0. The most mistakes were found when predicting forest cover type 1 with 2949 incorrect predictions. The reason 0 and 1 types have so many incorrect predictions with relatively high F1 scores is because the data has the most instances of type 0 and 1 forest covers."
   ]
  }
 ],
 "metadata": {
  "colab": {
   "include_colab_link": true,
   "name": "W207_Final_Project_KNN.ipynb",
   "provenance": []
  },
  "kernelspec": {
   "display_name": "Python 3",
   "language": "python",
   "name": "python3"
  },
  "language_info": {
   "codemirror_mode": {
    "name": "ipython",
    "version": 3
   },
   "file_extension": ".py",
   "mimetype": "text/x-python",
   "name": "python",
   "nbconvert_exporter": "python",
   "pygments_lexer": "ipython3",
   "version": "3.8.5"
  }
 },
 "nbformat": 4,
 "nbformat_minor": 1
}
